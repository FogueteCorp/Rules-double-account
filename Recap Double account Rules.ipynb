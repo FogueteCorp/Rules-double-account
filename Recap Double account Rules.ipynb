{
 "cells": [
  {
   "cell_type": "markdown",
   "metadata": {},
   "source": [
    "<h1> SET-UP </h1>"
   ]
  },
  {
   "cell_type": "markdown",
   "metadata": {},
   "source": [
    "<h3> DEFINITIONS </h3>"
   ]
  },
  {
   "cell_type": "code",
   "execution_count": 1,
   "metadata": {},
   "outputs": [],
   "source": [
    "import json\n",
    "import requests\n",
    "\n",
    "RULES_URL = 'https://api.rules.art/graphql'"
   ]
  },
  {
   "cell_type": "markdown",
   "metadata": {},
   "source": [
    "<h3> FUNCTIONS </h3>"
   ]
  },
  {
   "cell_type": "code",
   "execution_count": 2,
   "metadata": {},
   "outputs": [],
   "source": [
    "def group_by_season_and_scarcity(card_list):\n",
    "    # Grouping by season and scarcity\n",
    "    cards = {}\n",
    "\n",
    "    for card in card_list:\n",
    "        if 'cardModel' in card:\n",
    "            season = card['cardModel']['season']\n",
    "            scarcity = card['cardModel']['scarcity']['name']\n",
    "        else:\n",
    "            season = card['season']\n",
    "            scarcity = card['scarcity']['name']\n",
    "\n",
    "        key = (season, scarcity)  # Use a tuple as a key to group by both season and scarcity\n",
    "\n",
    "        if key not in cards:\n",
    "            cards[key] = []\n",
    "        cards[key].append(card)\n",
    "\n",
    "    return cards\n"
   ]
  },
  {
   "cell_type": "code",
   "execution_count": 3,
   "metadata": {},
   "outputs": [],
   "source": [
    "def all_cards_model():\n",
    "    query = f\"\"\"\n",
    "    {{\n",
    "        allCardModels{{\n",
    "            slug,\n",
    "            uid,\n",
    "            scarcity{{\n",
    "                name\n",
    "            }},\n",
    "            season,\n",
    "            artistName\n",
    "        }}\n",
    "    }}\n",
    "    \"\"\"\n",
    "\n",
    "    r = requests.post(RULES_URL, json={'query': query})\n",
    "    #print(r.status_code)\n",
    "\n",
    "    try:\n",
    "        r_data = r.json()\n",
    "        rules_data = r_data.get('data', {}).get('allCardModels')\n",
    "        return group_by_season_and_scarcity(rules_data)\n",
    "        \n",
    "\n",
    "    except ValueError:\n",
    "        raise ValueError(\"Error: Invalid JSON response from the API.\")\n",
    "\n",
    "    "
   ]
  },
  {
   "cell_type": "code",
   "execution_count": 4,
   "metadata": {},
   "outputs": [],
   "source": [
    "def owned_cards(account_name):\n",
    "  \n",
    "  query = f\"\"\"\n",
    "  {{\n",
    "    user(slug: \"{account_name}\") {{\n",
    "      ownedCardModels {{\n",
    "        cardModel {{\n",
    "          slug,\n",
    "          uid,\n",
    "          scarcity {{\n",
    "            name\n",
    "          }}\n",
    "          artistName,\n",
    "          season\n",
    "        }},\n",
    "        serialNumbers\n",
    "      }}\n",
    "    }}\n",
    "  }}\n",
    "  \"\"\"\n",
    "  r = requests.post(RULES_URL, json={'query': query})\n",
    "  #print(r.status_code)\n",
    "\n",
    "  try:\n",
    "    r_data = r.json()\n",
    "    user = r_data.get('data', {}).get('user')\n",
    "    #Check if user is found\n",
    "    if user is None:\n",
    "       print(\"User not found\")\n",
    "       return []\n",
    "    else: \n",
    "      user_data = user.get('ownedCardModels')\n",
    "      #print(user_data)\n",
    "      return group_by_season_and_scarcity(user_data)\n",
    "  except ValueError:\n",
    "      raise ValueError(\"Error: Invalid JSON response from the API.\")\n",
    "  \n",
    "  \n"
   ]
  },
  {
   "cell_type": "code",
   "execution_count": 5,
   "metadata": {},
   "outputs": [],
   "source": [
    "def find_doublons(card_list):\n",
    "    doublons = {}\n",
    "\n",
    "    # Iterate over each season's card list\n",
    "    for season, cards in card_list.items():\n",
    "        filtered_cards = [card for card in cards if len(card['serialNumbers']) > 1]\n",
    "        if filtered_cards:\n",
    "            doublons[season] = filtered_cards\n",
    "\n",
    "    return doublons\n"
   ]
  },
  {
   "cell_type": "code",
   "execution_count": 6,
   "metadata": {},
   "outputs": [],
   "source": [
    "def find_missing_cards(card_list_1, card_list_2):\n",
    "    # Extract uids from the first output\n",
    "    list_1 = set(item.get('uid', item.get('cardModel', {}).get('uid')) for sublist in card_list_1.values() for item in sublist)\n",
    "\n",
    "    # Extract uids from the second output\n",
    "    list_2 = set(item['cardModel']['uid'] for sublist in card_list_2.values() for item in sublist)\n",
    "\n",
    "    # Find the uids that are present in the first output but not in the second output\n",
    "    uids_not_in_second_list = list_1 - list_2\n",
    "\n",
    "    # Convert list_1 back to a dictionary using a dictionary comprehension\n",
    "    list_1_dict = {key: value for key, value in card_list_1.items()}\n",
    "\n",
    "    # Filter the elements from the first output based on the uids not present in the second output\n",
    "    elements_not_in_second_output = {key: [item for item in sublist if item.get('uid', item.get('cardModel', {}).get('uid')) in uids_not_in_second_list] for key, sublist in list_1_dict.items()}\n",
    "\n",
    "    return elements_not_in_second_output\n"
   ]
  },
  {
   "cell_type": "code",
   "execution_count": 7,
   "metadata": {},
   "outputs": [],
   "source": [
    "def get_lowest_serial_numbers(data):\n",
    "    # Create a dictionary to store the lowest serial numbers for each slug\n",
    "    lowest_serial_numbers = {}\n",
    "\n",
    "    # Iterate through the data dictionary\n",
    "    for key, items_list in data.items():\n",
    "        lowest_serial_numbers[key] = []\n",
    "        for item in items_list:\n",
    "            # Extract the slug and serialNumbers from the item\n",
    "            slug = item['cardModel']['slug']\n",
    "            uid = item['cardModel']['uid']\n",
    "            scarcity = item['cardModel']['scarcity']\n",
    "            artist_name = item['cardModel']['artistName']\n",
    "            serial_numbers = item['serialNumbers']\n",
    "\n",
    "            # Check if serialNumbers is empty\n",
    "            if serial_numbers:\n",
    "                # Find the lowest serial number for the current slug\n",
    "                lowest_serial = min(serial_numbers)\n",
    "                # Append the data for the current slug to the output\n",
    "                output_item = {\n",
    "                    'cardModel': {\n",
    "                        'slug': slug,\n",
    "                        'uid': uid,\n",
    "                        'scarcity': scarcity,\n",
    "                        'artistName': artist_name\n",
    "                    },\n",
    "                    'serialNumbers': [lowest_serial]\n",
    "                }\n",
    "                lowest_serial_numbers[key].append(output_item)\n",
    "\n",
    "    # Remove keys with no valid data\n",
    "    lowest_serial_numbers = {k: v for k, v in lowest_serial_numbers.items() if v}\n",
    "\n",
    "    return lowest_serial_numbers"
   ]
  },
  {
   "cell_type": "code",
   "execution_count": 8,
   "metadata": {},
   "outputs": [],
   "source": [
    "def find_common_card_models(dict1, dict2):\n",
    "    common_card_models = {}\n",
    "\n",
    "    for key in dict1.keys():\n",
    "        if key in dict2:\n",
    "            list1 = dict1[key]\n",
    "            list2 = dict2[key]\n",
    "\n",
    "            for item1 in list1:\n",
    "                for item2 in list2:\n",
    "                    if item1['cardModel'] == item2['cardModel']:\n",
    "                        card_model_key = f\"{item1['cardModel']['slug']}_{item1['cardModel']['scarcity']['name']}\"\n",
    "                        if card_model_key not in common_card_models:\n",
    "                            common_card_models[card_model_key] = {\n",
    "                                'cardModel': {\n",
    "                                    'slug': item1['cardModel']['slug'],\n",
    "                                    'uid': item1['cardModel']['uid'],\n",
    "                                    'scarcity': item1['cardModel']['scarcity'],\n",
    "                                    'artistName': item1['cardModel']['artistName'],\n",
    "                                    'season': item1['cardModel']['season']\n",
    "                                },\n",
    "                                'serialNumbers': []\n",
    "                            }\n",
    "                        serial_numbers = []\n",
    "                        if item1['serialNumbers']:\n",
    "                            serial_numbers.extend(item1['serialNumbers'])\n",
    "                        if item2['serialNumbers']:\n",
    "                            serial_numbers.extend(item2['serialNumbers'])\n",
    "                        lowest_serial_number = min(serial_numbers)\n",
    "                        if lowest_serial_number in item2['serialNumbers']:\n",
    "                            common_card_models[card_model_key]['serialNumbers'] = [lowest_serial_number]\n",
    "                        else:\n",
    "                            del common_card_models[card_model_key]\n",
    "                        break  # Exit inner loop if a matching cardModel is found in list2\n",
    "\n",
    "    return group_by_season_and_scarcity(list(common_card_models.values()))"
   ]
  },
  {
   "cell_type": "code",
   "execution_count": 9,
   "metadata": {},
   "outputs": [],
   "source": [
    "def print_good_format(card_list):\n",
    "    # Printing the data in the desired format\n",
    "\n",
    "    if all(not slugs for slugs in card_list.values()):\n",
    "        print(\"No card to display\")\n",
    "        return\n",
    "    \n",
    "    for season_scarcity, slugs in card_list.items():\n",
    "        print(f\"SEASON {season_scarcity[0]} - {season_scarcity[1].capitalize()}:\")\n",
    "        for slug in slugs:\n",
    "            if 'cardModel' in slug:\n",
    "                serial_numbers = slug['serialNumbers']\n",
    "                artist_name = slug['cardModel']['artistName']\n",
    "                scarcity_name = slug['cardModel']['scarcity']['name']\n",
    "                uid = slug['cardModel']['uid']\n",
    "                print(f\"{uid} - {artist_name} - #{serial_numbers}\")\n",
    "            elif 'slug' in slug:\n",
    "                artist_name = slug['artistName']\n",
    "                scarcity_name = slug['scarcity']['name']\n",
    "                uid = slug['uid']\n",
    "                print(f\"{uid} - {artist_name}\")\n",
    "            \n",
    "        print()  # Empty line between seasons\n",
    "\n"
   ]
  },
  {
   "cell_type": "markdown",
   "metadata": {},
   "source": [
    "***"
   ]
  },
  {
   "cell_type": "markdown",
   "metadata": {},
   "source": [
    "***"
   ]
  },
  {
   "cell_type": "markdown",
   "metadata": {},
   "source": [
    "<h1> RULES - ALL CARDS </h1>"
   ]
  },
  {
   "cell_type": "code",
   "execution_count": 10,
   "metadata": {},
   "outputs": [
    {
     "name": "stdout",
     "output_type": "stream",
     "text": [
      "SEASON 1 - Common:\n",
      "1 - Le Règlement\n",
      "3 - Caballero\n",
      "5 - JeanJass\n",
      "7 - Zuukou Mayzie\n",
      "9 - Benjamin Epps\n",
      "11 - thaHomey\n",
      "13 - So La Lune\n",
      "15 - Sheldon\n",
      "17 - Youv Dee\n",
      "19 - Livaï\n",
      "21 - Flem\n",
      "23 - Spider Zed\n",
      "25 - Lycos\n",
      "27 - Winnterzuko\n",
      "29 - Jewel Usain\n",
      "31 - Slimka\n",
      "33 - 8ruki\n",
      "35 - Mahdi Ba\n",
      "37 - Jwles\n",
      "39 - Azur\n",
      "41 - Moji x Sboy\n",
      "43 - Rowjay\n",
      "45 - Zinée\n",
      "47 - Skuna\n",
      "51 - Di-Meh\n",
      "53 - JMK$\n",
      "49 - Deen Burbigo\n",
      "56 - Kerchak\n",
      "58 - Doums\n",
      "60 - Bigflo\n",
      "62 - Ysos\n",
      "\n",
      "SEASON 1 - Platinium:\n",
      "2 - Le Règlement\n",
      "4 - Caballero\n",
      "6 - JeanJass\n",
      "8 - Zuukou Mayzie\n",
      "10 - Benjamin Epps\n",
      "12 - thaHomey\n",
      "14 - So La Lune\n",
      "16 - Sheldon\n",
      "18 - Youv Dee\n",
      "20 - Livaï\n",
      "22 - Flem\n",
      "24 - Spider Zed\n",
      "26 - Lycos\n",
      "28 - Winnterzuko\n",
      "30 - Jewel Usain\n",
      "32 - Slimka\n",
      "34 - 8ruki\n",
      "36 - Mahdi Ba\n",
      "38 - Jwles\n",
      "40 - Azur\n",
      "42 - Moji x Sboy\n",
      "44 - Rowjay\n",
      "46 - Zinée\n",
      "48 - Skuna\n",
      "52 - Di-Meh\n",
      "54 - JMK$\n",
      "50 - Deen Burbigo\n",
      "57 - Kerchak\n",
      "59 - Doums\n",
      "61 - Bigflo\n",
      "63 - Ysos\n",
      "55 - Caba. & J.J.\n",
      "\n",
      "SEASON 1 - Halloween:\n",
      "75 - Zinée\n",
      "67 - Zuukou Mayzie\n",
      "72 - Youv Dee\n",
      "69 - JeanJass\n",
      "68 - Caballero\n",
      "71 - Le Règlement\n",
      "66 - Eden Dillinger\n",
      "70 - Winnterzuko\n",
      "73 - Vladimir Cauchemar \n",
      "\n",
      "SEASON 2 - Common:\n",
      "110 - 404Billy\n",
      "118 - Baby Neelou\n",
      "100 - BabySolo33\n",
      "78 - Caballero\n",
      "112 - HOUDI\n",
      "80 - JeanJass\n",
      "102 - Karmen\n",
      "90 - Kerchak\n",
      "76 - Le Règlement\n",
      "114 - Limsa d'Aulnay\n",
      "104 - Mehdi Maïzi\n",
      "116 - Roshi\n",
      "108 - Selug & $enar\n",
      "82 - So La Lune\n",
      "96 - Spider Zed\n",
      "106 - thaHomey\n",
      "88 - Vladimir Cauchemar\n",
      "98 - Wallace Cleaver\n",
      "86 - Winnterzuko\n",
      "94 - Youv Dee\n",
      "120 - Mairo\n",
      "124 - Rad Cartier\n",
      "84 - Deen Burbigo\n",
      "130 - Stony Stone\n",
      "92 - Zuukou Mayzie\n",
      "\n",
      "SEASON 2 - Holo:\n",
      "111 - 404Billy\n",
      "119 - Baby Neelou\n",
      "101 - BabySolo33\n",
      "79 - Caballero\n",
      "113 - HOUDI\n",
      "81 - JeanJass\n",
      "103 - Karmen\n",
      "91 - Kerchak\n",
      "77 - Le Règlement\n",
      "115 - Limsa d'Aulnay\n",
      "105 - Mehdi Maïzi\n",
      "117 - Roshi\n",
      "109 - Selug & $enar\n",
      "83 - So La Lune\n",
      "97 - Spider Zed\n",
      "107 - thaHomey\n",
      "89 - Vladimir Cauchemar\n",
      "99 - Wallace Cleaver\n",
      "87 - Winnterzuko\n",
      "95 - Youv Dee\n",
      "121 - Mairo\n",
      "125 - Rad Cartier\n",
      "85 - Deen Burbigo\n",
      "131 - Stony Stone\n",
      "93 - Zuukou Mayzie\n",
      "\n",
      "SEASON 2 - Live:\n",
      "134 - Rules Party 1\n",
      "\n"
     ]
    }
   ],
   "source": [
    "all_cards = all_cards_model()\n",
    "#print(f\"{all_cards}\\n\")\n",
    "print_good_format(all_cards)"
   ]
  },
  {
   "cell_type": "markdown",
   "metadata": {},
   "source": [
    "***"
   ]
  },
  {
   "cell_type": "markdown",
   "metadata": {},
   "source": [
    "***"
   ]
  },
  {
   "cell_type": "markdown",
   "metadata": {},
   "source": [
    "<h1> MAIN ACCOUNT </h1>"
   ]
  },
  {
   "cell_type": "code",
   "execution_count": 11,
   "metadata": {},
   "outputs": [
    {
     "name": "stdout",
     "output_type": "stream",
     "text": [
      "Account: FOGUETE\n",
      "{(1, 'halloween'): [{'cardModel': {'slug': 'zinee-season-1-halloween', 'uid': 75, 'scarcity': {'name': 'halloween'}, 'artistName': 'Zinée', 'season': 1}, 'serialNumbers': [1842]}, {'cardModel': {'slug': 'jeanjass-season-1-halloween', 'uid': 69, 'scarcity': {'name': 'halloween'}, 'artistName': 'JeanJass', 'season': 1}, 'serialNumbers': [2081]}, {'cardModel': {'slug': 'caballero-season-1-halloween', 'uid': 68, 'scarcity': {'name': 'halloween'}, 'artistName': 'Caballero', 'season': 1}, 'serialNumbers': [1763]}], (1, 'common'): [{'cardModel': {'slug': 'flem-season-1-common', 'uid': 21, 'scarcity': {'name': 'common'}, 'artistName': 'Flem', 'season': 1}, 'serialNumbers': [2808, 3107, 3464, 3873, 3883]}, {'cardModel': {'slug': 'le-reglement-season-1-common', 'uid': 1, 'scarcity': {'name': 'common'}, 'artistName': 'Le Règlement', 'season': 1}, 'serialNumbers': [1928, 3827]}, {'cardModel': {'slug': 'lycos-season-1-common', 'uid': 25, 'scarcity': {'name': 'common'}, 'artistName': 'Lycos', 'season': 1}, 'serialNumbers': [3051, 3385]}, {'cardModel': {'slug': 'doums-season-1-common', 'uid': 58, 'scarcity': {'name': 'common'}, 'artistName': 'Doums', 'season': 1}, 'serialNumbers': [1938, 2627]}, {'cardModel': {'slug': 'rowjay-season-1-common', 'uid': 43, 'scarcity': {'name': 'common'}, 'artistName': 'Rowjay', 'season': 1}, 'serialNumbers': [1998, 3770]}, {'cardModel': {'slug': 'spider-zed-season-1-common', 'uid': 23, 'scarcity': {'name': 'common'}, 'artistName': 'Spider Zed', 'season': 1}, 'serialNumbers': [3287]}, {'cardModel': {'slug': 'jmks-season-1-common', 'uid': 53, 'scarcity': {'name': 'common'}, 'artistName': 'JMK$', 'season': 1}, 'serialNumbers': [3391]}, {'cardModel': {'slug': 'slimka-season-1-common', 'uid': 31, 'scarcity': {'name': 'common'}, 'artistName': 'Slimka', 'season': 1}, 'serialNumbers': [3274]}, {'cardModel': {'slug': 'jewel-usain-season-1-common', 'uid': 29, 'scarcity': {'name': 'common'}, 'artistName': 'Jewel Usain', 'season': 1}, 'serialNumbers': [3227]}, {'cardModel': {'slug': 'benjamin-epps-season-1-common', 'uid': 9, 'scarcity': {'name': 'common'}, 'artistName': 'Benjamin Epps', 'season': 1}, 'serialNumbers': [3623]}, {'cardModel': {'slug': 'sheldon-season-1-common', 'uid': 15, 'scarcity': {'name': 'common'}, 'artistName': 'Sheldon', 'season': 1}, 'serialNumbers': [2923, 3129]}, {'cardModel': {'slug': 'azur-season-1-common', 'uid': 39, 'scarcity': {'name': 'common'}, 'artistName': 'Azur', 'season': 1}, 'serialNumbers': [3614]}, {'cardModel': {'slug': 'ysos-season-1-common', 'uid': 62, 'scarcity': {'name': 'common'}, 'artistName': 'Ysos', 'season': 1}, 'serialNumbers': [2309, 2437]}, {'cardModel': {'slug': 'skuna-season-1-common', 'uid': 47, 'scarcity': {'name': 'common'}, 'artistName': 'Skuna', 'season': 1}, 'serialNumbers': [3682]}, {'cardModel': {'slug': 'winnterzuko-season-1-common', 'uid': 27, 'scarcity': {'name': 'common'}, 'artistName': 'Winnterzuko', 'season': 1}, 'serialNumbers': [3622]}, {'cardModel': {'slug': 'bigflo-season-1-common', 'uid': 60, 'scarcity': {'name': 'common'}, 'artistName': 'Bigflo', 'season': 1}, 'serialNumbers': [2579]}, {'cardModel': {'slug': '8ruki-season-1-common', 'uid': 33, 'scarcity': {'name': 'common'}, 'artistName': '8ruki', 'season': 1}, 'serialNumbers': [3966]}, {'cardModel': {'slug': 'di-meh-season-1-common', 'uid': 51, 'scarcity': {'name': 'common'}, 'artistName': 'Di-Meh', 'season': 1}, 'serialNumbers': [3873]}, {'cardModel': {'slug': 'moji-x-sboy-season-1-common', 'uid': 41, 'scarcity': {'name': 'common'}, 'artistName': 'Moji x Sboy', 'season': 1}, 'serialNumbers': [3718]}, {'cardModel': {'slug': 'deen-burbigo-season-1-common', 'uid': 49, 'scarcity': {'name': 'common'}, 'artistName': 'Deen Burbigo', 'season': 1}, 'serialNumbers': [3926]}, {'cardModel': {'slug': 'kerchak-season-1-common', 'uid': 56, 'scarcity': {'name': 'common'}, 'artistName': 'Kerchak', 'season': 1}, 'serialNumbers': [3101]}, {'cardModel': {'slug': 'youv-dee-season-1-common', 'uid': 17, 'scarcity': {'name': 'common'}, 'artistName': 'Youv Dee', 'season': 1}, 'serialNumbers': [4067]}, {'cardModel': {'slug': 'zinee-season-1-common', 'uid': 45, 'scarcity': {'name': 'common'}, 'artistName': 'Zinée', 'season': 1}, 'serialNumbers': [4034]}, {'cardModel': {'slug': 'mahdi-ba-season-1-common', 'uid': 35, 'scarcity': {'name': 'common'}, 'artistName': 'Mahdi Ba', 'season': 1}, 'serialNumbers': [4119]}, {'cardModel': {'slug': 'thahomey-season-1-common', 'uid': 11, 'scarcity': {'name': 'common'}, 'artistName': 'thaHomey', 'season': 1}, 'serialNumbers': [4152]}, {'cardModel': {'slug': 'jeanjass-season-1-common', 'uid': 5, 'scarcity': {'name': 'common'}, 'artistName': 'JeanJass', 'season': 1}, 'serialNumbers': [4604]}, {'cardModel': {'slug': 'livai-season-1-common', 'uid': 19, 'scarcity': {'name': 'common'}, 'artistName': 'Livaï', 'season': 1}, 'serialNumbers': [4455]}], (1, 'platinium'): [{'cardModel': {'slug': 'jewel-usain-season-1-platinium', 'uid': 30, 'scarcity': {'name': 'platinium'}, 'artistName': 'Jewel Usain', 'season': 1}, 'serialNumbers': [261]}, {'cardModel': {'slug': 'benjamin-epps-season-1-platinium', 'uid': 10, 'scarcity': {'name': 'platinium'}, 'artistName': 'Benjamin Epps', 'season': 1}, 'serialNumbers': [181]}], (2, 'common'): [{'cardModel': {'slug': 'thahomey-season-2-common', 'uid': 106, 'scarcity': {'name': 'common'}, 'artistName': 'thaHomey', 'season': 2}, 'serialNumbers': [281]}, {'cardModel': {'slug': 'jeanjass-season-2-common', 'uid': 80, 'scarcity': {'name': 'common'}, 'artistName': 'JeanJass', 'season': 2}, 'serialNumbers': [282]}, {'cardModel': {'slug': '404billy-season-2-common', 'uid': 110, 'scarcity': {'name': 'common'}, 'artistName': '404Billy', 'season': 2}, 'serialNumbers': [415]}, {'cardModel': {'slug': 'spider-zed-season-2-common', 'uid': 96, 'scarcity': {'name': 'common'}, 'artistName': 'Spider Zed', 'season': 2}, 'serialNumbers': [202]}, {'cardModel': {'slug': 'so-la-lune-season-2-common', 'uid': 82, 'scarcity': {'name': 'common'}, 'artistName': 'So La Lune', 'season': 2}, 'serialNumbers': [419]}, {'cardModel': {'slug': 'selug-and-senar-season-2-common', 'uid': 108, 'scarcity': {'name': 'common'}, 'artistName': 'Selug & $enar', 'season': 2}, 'serialNumbers': [18]}, {'cardModel': {'slug': 'wallace-cleaver-season-2-common', 'uid': 98, 'scarcity': {'name': 'common'}, 'artistName': 'Wallace Cleaver', 'season': 2}, 'serialNumbers': [272]}, {'cardModel': {'slug': 'baby-neelou-season-2-common', 'uid': 118, 'scarcity': {'name': 'common'}, 'artistName': 'Baby Neelou', 'season': 2}, 'serialNumbers': [416]}, {'cardModel': {'slug': 'deen-burbigo-season-2-common', 'uid': 84, 'scarcity': {'name': 'common'}, 'artistName': 'Deen Burbigo', 'season': 2}, 'serialNumbers': [68]}, {'cardModel': {'slug': 'winnterzuko-season-2-common', 'uid': 86, 'scarcity': {'name': 'common'}, 'artistName': 'Winnterzuko', 'season': 2}, 'serialNumbers': [999]}, {'cardModel': {'slug': 'youv-dee-season-2-common', 'uid': 94, 'scarcity': {'name': 'common'}, 'artistName': 'Youv Dee', 'season': 2}, 'serialNumbers': [1220]}, {'cardModel': {'slug': 'babysolo33-season-2-common', 'uid': 100, 'scarcity': {'name': 'common'}, 'artistName': 'BabySolo33', 'season': 2}, 'serialNumbers': [784]}, {'cardModel': {'slug': 'houdi-season-2-common', 'uid': 112, 'scarcity': {'name': 'common'}, 'artistName': 'HOUDI', 'season': 2}, 'serialNumbers': [986]}, {'cardModel': {'slug': 'karmen-season-2-common', 'uid': 102, 'scarcity': {'name': 'common'}, 'artistName': 'Karmen', 'season': 2}, 'serialNumbers': [1250]}, {'cardModel': {'slug': 'roshi-season-2-common', 'uid': 116, 'scarcity': {'name': 'common'}, 'artistName': 'Roshi', 'season': 2}, 'serialNumbers': [895]}, {'cardModel': {'slug': 'rad-cartier-season-2-common', 'uid': 124, 'scarcity': {'name': 'common'}, 'artistName': 'Rad Cartier', 'season': 2}, 'serialNumbers': [545]}, {'cardModel': {'slug': 'limsa-daulnay-season-2-common', 'uid': 114, 'scarcity': {'name': 'common'}, 'artistName': \"Limsa d'Aulnay\", 'season': 2}, 'serialNumbers': [1311]}], (2, 'holo'): [{'cardModel': {'slug': 'houdi-season-2-holo', 'uid': 113, 'scarcity': {'name': 'holo'}, 'artistName': 'HOUDI', 'season': 2}, 'serialNumbers': [176]}, {'cardModel': {'slug': 'so-la-lune-season-2-holo', 'uid': 83, 'scarcity': {'name': 'holo'}, 'artistName': 'So La Lune', 'season': 2}, 'serialNumbers': [286]}, {'cardModel': {'slug': 'deen-burbigo-season-2-holo', 'uid': 85, 'scarcity': {'name': 'holo'}, 'artistName': 'Deen Burbigo', 'season': 2}, 'serialNumbers': [224]}]}\n",
      "\n"
     ]
    }
   ],
   "source": [
    "main_account = input(\"What is your main account profile name ? \").casefold().replace(\" \", \"\")\n",
    "print(f\"Account: {main_account.upper()}\")\n",
    "card_list_main_account = owned_cards(main_account)\n",
    "#print(json.dumps(card_list_main_account, indent=2))\n",
    "print(f\"{card_list_main_account}\\n\")"
   ]
  },
  {
   "cell_type": "markdown",
   "metadata": {},
   "source": [
    "<h3> ALL CARDS OWNED </h3>"
   ]
  },
  {
   "cell_type": "code",
   "execution_count": 12,
   "metadata": {},
   "outputs": [
    {
     "name": "stdout",
     "output_type": "stream",
     "text": [
      "SEASON 1 - Halloween:\n",
      "75 - Zinée - #[1842]\n",
      "69 - JeanJass - #[2081]\n",
      "68 - Caballero - #[1763]\n",
      "\n",
      "SEASON 1 - Common:\n",
      "21 - Flem - #[2808, 3107, 3464, 3873, 3883]\n",
      "1 - Le Règlement - #[1928, 3827]\n",
      "25 - Lycos - #[3051, 3385]\n",
      "58 - Doums - #[1938, 2627]\n",
      "43 - Rowjay - #[1998, 3770]\n",
      "23 - Spider Zed - #[3287]\n",
      "53 - JMK$ - #[3391]\n",
      "31 - Slimka - #[3274]\n",
      "29 - Jewel Usain - #[3227]\n",
      "9 - Benjamin Epps - #[3623]\n",
      "15 - Sheldon - #[2923, 3129]\n",
      "39 - Azur - #[3614]\n",
      "62 - Ysos - #[2309, 2437]\n",
      "47 - Skuna - #[3682]\n",
      "27 - Winnterzuko - #[3622]\n",
      "60 - Bigflo - #[2579]\n",
      "33 - 8ruki - #[3966]\n",
      "51 - Di-Meh - #[3873]\n",
      "41 - Moji x Sboy - #[3718]\n",
      "49 - Deen Burbigo - #[3926]\n",
      "56 - Kerchak - #[3101]\n",
      "17 - Youv Dee - #[4067]\n",
      "45 - Zinée - #[4034]\n",
      "35 - Mahdi Ba - #[4119]\n",
      "11 - thaHomey - #[4152]\n",
      "5 - JeanJass - #[4604]\n",
      "19 - Livaï - #[4455]\n",
      "\n",
      "SEASON 1 - Platinium:\n",
      "30 - Jewel Usain - #[261]\n",
      "10 - Benjamin Epps - #[181]\n",
      "\n",
      "SEASON 2 - Common:\n",
      "106 - thaHomey - #[281]\n",
      "80 - JeanJass - #[282]\n",
      "110 - 404Billy - #[415]\n",
      "96 - Spider Zed - #[202]\n",
      "82 - So La Lune - #[419]\n",
      "108 - Selug & $enar - #[18]\n",
      "98 - Wallace Cleaver - #[272]\n",
      "118 - Baby Neelou - #[416]\n",
      "84 - Deen Burbigo - #[68]\n",
      "86 - Winnterzuko - #[999]\n",
      "94 - Youv Dee - #[1220]\n",
      "100 - BabySolo33 - #[784]\n",
      "112 - HOUDI - #[986]\n",
      "102 - Karmen - #[1250]\n",
      "116 - Roshi - #[895]\n",
      "124 - Rad Cartier - #[545]\n",
      "114 - Limsa d'Aulnay - #[1311]\n",
      "\n",
      "SEASON 2 - Holo:\n",
      "113 - HOUDI - #[176]\n",
      "83 - So La Lune - #[286]\n",
      "85 - Deen Burbigo - #[224]\n",
      "\n"
     ]
    }
   ],
   "source": [
    "print_good_format(card_list_main_account)"
   ]
  },
  {
   "cell_type": "markdown",
   "metadata": {},
   "source": [
    "<h3> DOUBLONS </h3>"
   ]
  },
  {
   "cell_type": "code",
   "execution_count": 13,
   "metadata": {},
   "outputs": [
    {
     "name": "stdout",
     "output_type": "stream",
     "text": [
      "SEASON 1 - Common:\n",
      "21 - Flem - #[2808, 3107, 3464, 3873, 3883]\n",
      "1 - Le Règlement - #[1928, 3827]\n",
      "25 - Lycos - #[3051, 3385]\n",
      "58 - Doums - #[1938, 2627]\n",
      "43 - Rowjay - #[1998, 3770]\n",
      "15 - Sheldon - #[2923, 3129]\n",
      "62 - Ysos - #[2309, 2437]\n",
      "\n"
     ]
    }
   ],
   "source": [
    "doublons_1 = find_doublons(card_list_main_account)\n",
    "\n",
    "#print(doublons)\n",
    "\n",
    "print_good_format(doublons_1)"
   ]
  },
  {
   "cell_type": "markdown",
   "metadata": {},
   "source": [
    "<h3> MISSING CARDS </h3>"
   ]
  },
  {
   "cell_type": "code",
   "execution_count": 14,
   "metadata": {},
   "outputs": [
    {
     "name": "stdout",
     "output_type": "stream",
     "text": [
      "{(1, 'common'): [{'slug': 'caballero-season-1-common', 'uid': 3, 'scarcity': {'name': 'common'}, 'season': 1, 'artistName': 'Caballero'}, {'slug': 'zuukou-mayzie-season-1-common', 'uid': 7, 'scarcity': {'name': 'common'}, 'season': 1, 'artistName': 'Zuukou Mayzie'}, {'slug': 'so-la-lune-season-1-common', 'uid': 13, 'scarcity': {'name': 'common'}, 'season': 1, 'artistName': 'So La Lune'}, {'slug': 'jwles-season-1-common', 'uid': 37, 'scarcity': {'name': 'common'}, 'season': 1, 'artistName': 'Jwles'}], (1, 'platinium'): [{'slug': 'le-reglement-season-1-platinium', 'uid': 2, 'scarcity': {'name': 'platinium'}, 'season': 1, 'artistName': 'Le Règlement'}, {'slug': 'caballero-season-1-platinium', 'uid': 4, 'scarcity': {'name': 'platinium'}, 'season': 1, 'artistName': 'Caballero'}, {'slug': 'jeanjass-season-1-platinium', 'uid': 6, 'scarcity': {'name': 'platinium'}, 'season': 1, 'artistName': 'JeanJass'}, {'slug': 'zuukou-mayzie-season-1-platinium', 'uid': 8, 'scarcity': {'name': 'platinium'}, 'season': 1, 'artistName': 'Zuukou Mayzie'}, {'slug': 'thahomey-season-1-platinium', 'uid': 12, 'scarcity': {'name': 'platinium'}, 'season': 1, 'artistName': 'thaHomey'}, {'slug': 'so-la-lune-season-1-platinium', 'uid': 14, 'scarcity': {'name': 'platinium'}, 'season': 1, 'artistName': 'So La Lune'}, {'slug': 'sheldon-season-1-platinium', 'uid': 16, 'scarcity': {'name': 'platinium'}, 'season': 1, 'artistName': 'Sheldon'}, {'slug': 'youv-dee-season-1-platinium', 'uid': 18, 'scarcity': {'name': 'platinium'}, 'season': 1, 'artistName': 'Youv Dee'}, {'slug': 'livai-season-1-platinium', 'uid': 20, 'scarcity': {'name': 'platinium'}, 'season': 1, 'artistName': 'Livaï'}, {'slug': 'flem-season-1-platinium', 'uid': 22, 'scarcity': {'name': 'platinium'}, 'season': 1, 'artistName': 'Flem'}, {'slug': 'spider-zed-season-1-platinium', 'uid': 24, 'scarcity': {'name': 'platinium'}, 'season': 1, 'artistName': 'Spider Zed'}, {'slug': 'lycos-season-1-platinium', 'uid': 26, 'scarcity': {'name': 'platinium'}, 'season': 1, 'artistName': 'Lycos'}, {'slug': 'winnterzuko-season-1-platinium', 'uid': 28, 'scarcity': {'name': 'platinium'}, 'season': 1, 'artistName': 'Winnterzuko'}, {'slug': 'slimka-season-1-platinium', 'uid': 32, 'scarcity': {'name': 'platinium'}, 'season': 1, 'artistName': 'Slimka'}, {'slug': '8ruki-season-1-platinium', 'uid': 34, 'scarcity': {'name': 'platinium'}, 'season': 1, 'artistName': '8ruki'}, {'slug': 'mahdi-ba-season-1-platinium', 'uid': 36, 'scarcity': {'name': 'platinium'}, 'season': 1, 'artistName': 'Mahdi Ba'}, {'slug': 'jwles-season-1-platinium', 'uid': 38, 'scarcity': {'name': 'platinium'}, 'season': 1, 'artistName': 'Jwles'}, {'slug': 'azur-season-1-platinium', 'uid': 40, 'scarcity': {'name': 'platinium'}, 'season': 1, 'artistName': 'Azur'}, {'slug': 'moji-x-sboy-season-1-platinium', 'uid': 42, 'scarcity': {'name': 'platinium'}, 'season': 1, 'artistName': 'Moji x Sboy'}, {'slug': 'rowjay-season-1-platinium', 'uid': 44, 'scarcity': {'name': 'platinium'}, 'season': 1, 'artistName': 'Rowjay'}, {'slug': 'zinee-season-1-platinium', 'uid': 46, 'scarcity': {'name': 'platinium'}, 'season': 1, 'artistName': 'Zinée'}, {'slug': 'skuna-season-1-platinium', 'uid': 48, 'scarcity': {'name': 'platinium'}, 'season': 1, 'artistName': 'Skuna'}, {'slug': 'di-meh-season-1-platinium', 'uid': 52, 'scarcity': {'name': 'platinium'}, 'season': 1, 'artistName': 'Di-Meh'}, {'slug': 'jmks-season-1-platinium', 'uid': 54, 'scarcity': {'name': 'platinium'}, 'season': 1, 'artistName': 'JMK$'}, {'slug': 'deen-burbigo-season-1-platinium', 'uid': 50, 'scarcity': {'name': 'platinium'}, 'season': 1, 'artistName': 'Deen Burbigo'}, {'slug': 'kerchak-season-1-platinium', 'uid': 57, 'scarcity': {'name': 'platinium'}, 'season': 1, 'artistName': 'Kerchak'}, {'slug': 'doums-season-1-platinium', 'uid': 59, 'scarcity': {'name': 'platinium'}, 'season': 1, 'artistName': 'Doums'}, {'slug': 'bigflo-season-1-platinium', 'uid': 61, 'scarcity': {'name': 'platinium'}, 'season': 1, 'artistName': 'Bigflo'}, {'slug': 'ysos-season-1-platinium', 'uid': 63, 'scarcity': {'name': 'platinium'}, 'season': 1, 'artistName': 'Ysos'}, {'slug': 'caba-and-jj-season-1-platinium', 'uid': 55, 'scarcity': {'name': 'platinium'}, 'season': 1, 'artistName': 'Caba. & J.J.'}], (1, 'halloween'): [{'slug': 'zuukou-mayzie-season-1-halloween', 'uid': 67, 'scarcity': {'name': 'halloween'}, 'season': 1, 'artistName': 'Zuukou Mayzie'}, {'slug': 'youv-dee-season-1-halloween', 'uid': 72, 'scarcity': {'name': 'halloween'}, 'season': 1, 'artistName': 'Youv Dee'}, {'slug': 'le-reglement-season-1-halloween', 'uid': 71, 'scarcity': {'name': 'halloween'}, 'season': 1, 'artistName': 'Le Règlement'}, {'slug': 'eden-dillinger-season-1-halloween', 'uid': 66, 'scarcity': {'name': 'halloween'}, 'season': 1, 'artistName': 'Eden Dillinger'}, {'slug': 'winnterzuko-season-1-halloween', 'uid': 70, 'scarcity': {'name': 'halloween'}, 'season': 1, 'artistName': 'Winnterzuko'}, {'slug': 'vladimir-cauchemar-season-1-halloween', 'uid': 73, 'scarcity': {'name': 'halloween'}, 'season': 1, 'artistName': 'Vladimir Cauchemar '}], (2, 'common'): [{'slug': 'caballero-season-2-common', 'uid': 78, 'scarcity': {'name': 'common'}, 'season': 2, 'artistName': 'Caballero'}, {'slug': 'kerchak-season-2-common', 'uid': 90, 'scarcity': {'name': 'common'}, 'season': 2, 'artistName': 'Kerchak'}, {'slug': 'le-reglement-season-2-common', 'uid': 76, 'scarcity': {'name': 'common'}, 'season': 2, 'artistName': 'Le Règlement'}, {'slug': 'mehdi-maizi-season-2-common', 'uid': 104, 'scarcity': {'name': 'common'}, 'season': 2, 'artistName': 'Mehdi Maïzi'}, {'slug': 'vladimir-cauchemar-season-2-common', 'uid': 88, 'scarcity': {'name': 'common'}, 'season': 2, 'artistName': 'Vladimir Cauchemar'}, {'slug': 'mairo-season-2-common', 'uid': 120, 'scarcity': {'name': 'common'}, 'season': 2, 'artistName': 'Mairo'}, {'slug': 'stony-stone-season-2-common', 'uid': 130, 'scarcity': {'name': 'common'}, 'season': 2, 'artistName': 'Stony Stone'}, {'slug': 'zuukou-mayzie-season-2-common', 'uid': 92, 'scarcity': {'name': 'common'}, 'season': 2, 'artistName': 'Zuukou Mayzie'}], (2, 'holo'): [{'slug': '404billy-season-2-holo', 'uid': 111, 'scarcity': {'name': 'holo'}, 'season': 2, 'artistName': '404Billy'}, {'slug': 'baby-neelou-season-2-holo', 'uid': 119, 'scarcity': {'name': 'holo'}, 'season': 2, 'artistName': 'Baby Neelou'}, {'slug': 'babysolo33-season-2-holo', 'uid': 101, 'scarcity': {'name': 'holo'}, 'season': 2, 'artistName': 'BabySolo33'}, {'slug': 'caballero-season-2-holo', 'uid': 79, 'scarcity': {'name': 'holo'}, 'season': 2, 'artistName': 'Caballero'}, {'slug': 'jeanjass-season-2-holo', 'uid': 81, 'scarcity': {'name': 'holo'}, 'season': 2, 'artistName': 'JeanJass'}, {'slug': 'karmen-season-2-holo', 'uid': 103, 'scarcity': {'name': 'holo'}, 'season': 2, 'artistName': 'Karmen'}, {'slug': 'kerchak-season-2-holo', 'uid': 91, 'scarcity': {'name': 'holo'}, 'season': 2, 'artistName': 'Kerchak'}, {'slug': 'le-reglement-season-2-holo', 'uid': 77, 'scarcity': {'name': 'holo'}, 'season': 2, 'artistName': 'Le Règlement'}, {'slug': 'limsa-daulnay-season-2-holo', 'uid': 115, 'scarcity': {'name': 'holo'}, 'season': 2, 'artistName': \"Limsa d'Aulnay\"}, {'slug': 'mehdi-maizi-season-2-holo', 'uid': 105, 'scarcity': {'name': 'holo'}, 'season': 2, 'artistName': 'Mehdi Maïzi'}, {'slug': 'roshi-season-2-holo', 'uid': 117, 'scarcity': {'name': 'holo'}, 'season': 2, 'artistName': 'Roshi'}, {'slug': 'selug-and-senar-season-2-holo', 'uid': 109, 'scarcity': {'name': 'holo'}, 'season': 2, 'artistName': 'Selug & $enar'}, {'slug': 'spider-zed-season-2-holo', 'uid': 97, 'scarcity': {'name': 'holo'}, 'season': 2, 'artistName': 'Spider Zed'}, {'slug': 'thahomey-season-2-holo', 'uid': 107, 'scarcity': {'name': 'holo'}, 'season': 2, 'artistName': 'thaHomey'}, {'slug': 'vladimir-cauchemar-season-2-holo', 'uid': 89, 'scarcity': {'name': 'holo'}, 'season': 2, 'artistName': 'Vladimir Cauchemar'}, {'slug': 'wallace-cleaver-season-2-holo', 'uid': 99, 'scarcity': {'name': 'holo'}, 'season': 2, 'artistName': 'Wallace Cleaver'}, {'slug': 'winnterzuko-season-2-holo', 'uid': 87, 'scarcity': {'name': 'holo'}, 'season': 2, 'artistName': 'Winnterzuko'}, {'slug': 'youv-dee-season-2-holo', 'uid': 95, 'scarcity': {'name': 'holo'}, 'season': 2, 'artistName': 'Youv Dee'}, {'slug': 'mairo-season-2-holo', 'uid': 121, 'scarcity': {'name': 'holo'}, 'season': 2, 'artistName': 'Mairo'}, {'slug': 'rad-cartier-season-2-holo', 'uid': 125, 'scarcity': {'name': 'holo'}, 'season': 2, 'artistName': 'Rad Cartier'}, {'slug': 'stony-stone-season-2-holo', 'uid': 131, 'scarcity': {'name': 'holo'}, 'season': 2, 'artistName': 'Stony Stone'}, {'slug': 'zuukou-mayzie-season-2-holo', 'uid': 93, 'scarcity': {'name': 'holo'}, 'season': 2, 'artistName': 'Zuukou Mayzie'}], (2, 'live'): [{'slug': 'rules-party-1-season-2-live', 'uid': 134, 'scarcity': {'name': 'live'}, 'season': 2, 'artistName': 'Rules Party 1'}]}\n",
      "SEASON 1 - Common:\n",
      "3 - Caballero\n",
      "7 - Zuukou Mayzie\n",
      "13 - So La Lune\n",
      "37 - Jwles\n",
      "\n",
      "SEASON 1 - Platinium:\n",
      "2 - Le Règlement\n",
      "4 - Caballero\n",
      "6 - JeanJass\n",
      "8 - Zuukou Mayzie\n",
      "12 - thaHomey\n",
      "14 - So La Lune\n",
      "16 - Sheldon\n",
      "18 - Youv Dee\n",
      "20 - Livaï\n",
      "22 - Flem\n",
      "24 - Spider Zed\n",
      "26 - Lycos\n",
      "28 - Winnterzuko\n",
      "32 - Slimka\n",
      "34 - 8ruki\n",
      "36 - Mahdi Ba\n",
      "38 - Jwles\n",
      "40 - Azur\n",
      "42 - Moji x Sboy\n",
      "44 - Rowjay\n",
      "46 - Zinée\n",
      "48 - Skuna\n",
      "52 - Di-Meh\n",
      "54 - JMK$\n",
      "50 - Deen Burbigo\n",
      "57 - Kerchak\n",
      "59 - Doums\n",
      "61 - Bigflo\n",
      "63 - Ysos\n",
      "55 - Caba. & J.J.\n",
      "\n",
      "SEASON 1 - Halloween:\n",
      "67 - Zuukou Mayzie\n",
      "72 - Youv Dee\n",
      "71 - Le Règlement\n",
      "66 - Eden Dillinger\n",
      "70 - Winnterzuko\n",
      "73 - Vladimir Cauchemar \n",
      "\n",
      "SEASON 2 - Common:\n",
      "78 - Caballero\n",
      "90 - Kerchak\n",
      "76 - Le Règlement\n",
      "104 - Mehdi Maïzi\n",
      "88 - Vladimir Cauchemar\n",
      "120 - Mairo\n",
      "130 - Stony Stone\n",
      "92 - Zuukou Mayzie\n",
      "\n",
      "SEASON 2 - Holo:\n",
      "111 - 404Billy\n",
      "119 - Baby Neelou\n",
      "101 - BabySolo33\n",
      "79 - Caballero\n",
      "81 - JeanJass\n",
      "103 - Karmen\n",
      "91 - Kerchak\n",
      "77 - Le Règlement\n",
      "115 - Limsa d'Aulnay\n",
      "105 - Mehdi Maïzi\n",
      "117 - Roshi\n",
      "109 - Selug & $enar\n",
      "97 - Spider Zed\n",
      "107 - thaHomey\n",
      "89 - Vladimir Cauchemar\n",
      "99 - Wallace Cleaver\n",
      "87 - Winnterzuko\n",
      "95 - Youv Dee\n",
      "121 - Mairo\n",
      "125 - Rad Cartier\n",
      "131 - Stony Stone\n",
      "93 - Zuukou Mayzie\n",
      "\n",
      "SEASON 2 - Live:\n",
      "134 - Rules Party 1\n",
      "\n"
     ]
    }
   ],
   "source": [
    "#print(f\"{all_cards}\\n\")\n",
    "#print(f\"{card_list_main_account}\\n\")\n",
    "print(find_missing_cards(all_cards, card_list_main_account))\n",
    "print_good_format(find_missing_cards(all_cards, card_list_main_account))\n"
   ]
  },
  {
   "cell_type": "markdown",
   "metadata": {},
   "source": [
    "***"
   ]
  },
  {
   "cell_type": "markdown",
   "metadata": {},
   "source": [
    "***"
   ]
  },
  {
   "cell_type": "markdown",
   "metadata": {},
   "source": [
    "<h1> SECOND ACCOUNT </h1> "
   ]
  },
  {
   "cell_type": "code",
   "execution_count": 15,
   "metadata": {},
   "outputs": [
    {
     "name": "stdout",
     "output_type": "stream",
     "text": [
      "Account: VINCE0602\n",
      "{(1, 'common'): [{'cardModel': {'slug': 'lycos-season-1-common', 'uid': 25, 'scarcity': {'name': 'common'}, 'artistName': 'Lycos', 'season': 1}, 'serialNumbers': [3946]}, {'cardModel': {'slug': 'di-meh-season-1-common', 'uid': 51, 'scarcity': {'name': 'common'}, 'artistName': 'Di-Meh', 'season': 1}, 'serialNumbers': [3934]}, {'cardModel': {'slug': 'jmks-season-1-common', 'uid': 53, 'scarcity': {'name': 'common'}, 'artistName': 'JMK$', 'season': 1}, 'serialNumbers': [3844, 4601]}, {'cardModel': {'slug': '8ruki-season-1-common', 'uid': 33, 'scarcity': {'name': 'common'}, 'artistName': '8ruki', 'season': 1}, 'serialNumbers': [4080]}, {'cardModel': {'slug': 'flem-season-1-common', 'uid': 21, 'scarcity': {'name': 'common'}, 'artistName': 'Flem', 'season': 1}, 'serialNumbers': [4192, 4202]}, {'cardModel': {'slug': 'winnterzuko-season-1-common', 'uid': 27, 'scarcity': {'name': 'common'}, 'artistName': 'Winnterzuko', 'season': 1}, 'serialNumbers': [4076, 4151, 4298]}, {'cardModel': {'slug': 'sheldon-season-1-common', 'uid': 15, 'scarcity': {'name': 'common'}, 'artistName': 'Sheldon', 'season': 1}, 'serialNumbers': [4072]}, {'cardModel': {'slug': 'youv-dee-season-1-common', 'uid': 17, 'scarcity': {'name': 'common'}, 'artistName': 'Youv Dee', 'season': 1}, 'serialNumbers': [4130, 4185]}, {'cardModel': {'slug': 'deen-burbigo-season-1-common', 'uid': 49, 'scarcity': {'name': 'common'}, 'artistName': 'Deen Burbigo', 'season': 1}, 'serialNumbers': [4138, 4208]}, {'cardModel': {'slug': 'spider-zed-season-1-common', 'uid': 23, 'scarcity': {'name': 'common'}, 'artistName': 'Spider Zed', 'season': 1}, 'serialNumbers': [4184, 4216]}, {'cardModel': {'slug': 'zinee-season-1-common', 'uid': 45, 'scarcity': {'name': 'common'}, 'artistName': 'Zinée', 'season': 1}, 'serialNumbers': [4241, 4566]}, {'cardModel': {'slug': 'doums-season-1-common', 'uid': 58, 'scarcity': {'name': 'common'}, 'artistName': 'Doums', 'season': 1}, 'serialNumbers': [3520]}, {'cardModel': {'slug': 'le-reglement-season-1-common', 'uid': 1, 'scarcity': {'name': 'common'}, 'artistName': 'Le Règlement', 'season': 1}, 'serialNumbers': [4411, 4636]}, {'cardModel': {'slug': 'rowjay-season-1-common', 'uid': 43, 'scarcity': {'name': 'common'}, 'artistName': 'Rowjay', 'season': 1}, 'serialNumbers': [4623]}, {'cardModel': {'slug': 'bigflo-season-1-common', 'uid': 60, 'scarcity': {'name': 'common'}, 'artistName': 'Bigflo', 'season': 1}, 'serialNumbers': [3647]}, {'cardModel': {'slug': 'kerchak-season-1-common', 'uid': 56, 'scarcity': {'name': 'common'}, 'artistName': 'Kerchak', 'season': 1}, 'serialNumbers': [3666]}, {'cardModel': {'slug': 'thahomey-season-1-common', 'uid': 11, 'scarcity': {'name': 'common'}, 'artistName': 'thaHomey', 'season': 1}, 'serialNumbers': [4492]}], (2, 'common'): [{'cardModel': {'slug': '404billy-season-2-common', 'uid': 110, 'scarcity': {'name': 'common'}, 'artistName': '404Billy', 'season': 2}, 'serialNumbers': [1060, 1109, 1269]}, {'cardModel': {'slug': 'jeanjass-season-2-common', 'uid': 80, 'scarcity': {'name': 'common'}, 'artistName': 'JeanJass', 'season': 2}, 'serialNumbers': []}, {'cardModel': {'slug': 'so-la-lune-season-2-common', 'uid': 82, 'scarcity': {'name': 'common'}, 'artistName': 'So La Lune', 'season': 2}, 'serialNumbers': [884, 1280]}, {'cardModel': {'slug': 'baby-neelou-season-2-common', 'uid': 118, 'scarcity': {'name': 'common'}, 'artistName': 'Baby Neelou', 'season': 2}, 'serialNumbers': [1061]}, {'cardModel': {'slug': 'wallace-cleaver-season-2-common', 'uid': 98, 'scarcity': {'name': 'common'}, 'artistName': 'Wallace Cleaver', 'season': 2}, 'serialNumbers': []}, {'cardModel': {'slug': 'selug-and-senar-season-2-common', 'uid': 108, 'scarcity': {'name': 'common'}, 'artistName': 'Selug & $enar', 'season': 2}, 'serialNumbers': [924]}, {'cardModel': {'slug': 'spider-zed-season-2-common', 'uid': 96, 'scarcity': {'name': 'common'}, 'artistName': 'Spider Zed', 'season': 2}, 'serialNumbers': []}, {'cardModel': {'slug': 'thahomey-season-2-common', 'uid': 106, 'scarcity': {'name': 'common'}, 'artistName': 'thaHomey', 'season': 2}, 'serialNumbers': []}, {'cardModel': {'slug': 'babysolo33-season-2-common', 'uid': 100, 'scarcity': {'name': 'common'}, 'artistName': 'BabySolo33', 'season': 2}, 'serialNumbers': [886, 921, 1143, 1280]}, {'cardModel': {'slug': 'roshi-season-2-common', 'uid': 116, 'scarcity': {'name': 'common'}, 'artistName': 'Roshi', 'season': 2}, 'serialNumbers': []}, {'cardModel': {'slug': 'winnterzuko-season-2-common', 'uid': 86, 'scarcity': {'name': 'common'}, 'artistName': 'Winnterzuko', 'season': 2}, 'serialNumbers': [1050, 1182]}, {'cardModel': {'slug': 'deen-burbigo-season-2-common', 'uid': 84, 'scarcity': {'name': 'common'}, 'artistName': 'Deen Burbigo', 'season': 2}, 'serialNumbers': []}, {'cardModel': {'slug': 'houdi-season-2-common', 'uid': 112, 'scarcity': {'name': 'common'}, 'artistName': 'HOUDI', 'season': 2}, 'serialNumbers': []}, {'cardModel': {'slug': 'youv-dee-season-2-common', 'uid': 94, 'scarcity': {'name': 'common'}, 'artistName': 'Youv Dee', 'season': 2}, 'serialNumbers': []}, {'cardModel': {'slug': 'karmen-season-2-common', 'uid': 102, 'scarcity': {'name': 'common'}, 'artistName': 'Karmen', 'season': 2}, 'serialNumbers': []}, {'cardModel': {'slug': 'limsa-daulnay-season-2-common', 'uid': 114, 'scarcity': {'name': 'common'}, 'artistName': \"Limsa d'Aulnay\", 'season': 2}, 'serialNumbers': []}, {'cardModel': {'slug': 'rad-cartier-season-2-common', 'uid': 124, 'scarcity': {'name': 'common'}, 'artistName': 'Rad Cartier', 'season': 2}, 'serialNumbers': []}], (2, 'holo'): [{'cardModel': {'slug': 'houdi-season-2-holo', 'uid': 113, 'scarcity': {'name': 'holo'}, 'artistName': 'HOUDI', 'season': 2}, 'serialNumbers': []}, {'cardModel': {'slug': 'so-la-lune-season-2-holo', 'uid': 83, 'scarcity': {'name': 'holo'}, 'artistName': 'So La Lune', 'season': 2}, 'serialNumbers': []}]}\n"
     ]
    }
   ],
   "source": [
    "second_account = input(\"What is your second account profile name ? \").casefold().replace(\" \", \"\")\n",
    "print(f\"Account: {second_account.upper()}\")\n",
    "card_list_second_account = owned_cards(second_account)\n",
    "#print(json.dumps(card_list_main_account, indent=2))\n",
    "print(card_list_second_account)"
   ]
  },
  {
   "cell_type": "markdown",
   "metadata": {},
   "source": [
    "<h3> ALL CARDS OWNED </h3>"
   ]
  },
  {
   "cell_type": "code",
   "execution_count": 16,
   "metadata": {},
   "outputs": [
    {
     "name": "stdout",
     "output_type": "stream",
     "text": [
      "SEASON 1 - Common:\n",
      "25 - Lycos - #[3946]\n",
      "51 - Di-Meh - #[3934]\n",
      "53 - JMK$ - #[3844, 4601]\n",
      "33 - 8ruki - #[4080]\n",
      "21 - Flem - #[4192, 4202]\n",
      "27 - Winnterzuko - #[4076, 4151, 4298]\n",
      "15 - Sheldon - #[4072]\n",
      "17 - Youv Dee - #[4130, 4185]\n",
      "49 - Deen Burbigo - #[4138, 4208]\n",
      "23 - Spider Zed - #[4184, 4216]\n",
      "45 - Zinée - #[4241, 4566]\n",
      "58 - Doums - #[3520]\n",
      "1 - Le Règlement - #[4411, 4636]\n",
      "43 - Rowjay - #[4623]\n",
      "60 - Bigflo - #[3647]\n",
      "56 - Kerchak - #[3666]\n",
      "11 - thaHomey - #[4492]\n",
      "\n",
      "SEASON 2 - Common:\n",
      "110 - 404Billy - #[1060, 1109, 1269]\n",
      "80 - JeanJass - #[]\n",
      "82 - So La Lune - #[884, 1280]\n",
      "118 - Baby Neelou - #[1061]\n",
      "98 - Wallace Cleaver - #[]\n",
      "108 - Selug & $enar - #[924]\n",
      "96 - Spider Zed - #[]\n",
      "106 - thaHomey - #[]\n",
      "100 - BabySolo33 - #[886, 921, 1143, 1280]\n",
      "116 - Roshi - #[]\n",
      "86 - Winnterzuko - #[1050, 1182]\n",
      "84 - Deen Burbigo - #[]\n",
      "112 - HOUDI - #[]\n",
      "94 - Youv Dee - #[]\n",
      "102 - Karmen - #[]\n",
      "114 - Limsa d'Aulnay - #[]\n",
      "124 - Rad Cartier - #[]\n",
      "\n",
      "SEASON 2 - Holo:\n",
      "113 - HOUDI - #[]\n",
      "83 - So La Lune - #[]\n",
      "\n"
     ]
    }
   ],
   "source": [
    "print_good_format(card_list_second_account)"
   ]
  },
  {
   "cell_type": "markdown",
   "metadata": {},
   "source": [
    "<h3> DOUBLONS </h3>"
   ]
  },
  {
   "cell_type": "code",
   "execution_count": 17,
   "metadata": {},
   "outputs": [
    {
     "name": "stdout",
     "output_type": "stream",
     "text": [
      "{(1, 'common'): [{'cardModel': {'slug': 'jmks-season-1-common', 'uid': 53, 'scarcity': {'name': 'common'}, 'artistName': 'JMK$', 'season': 1}, 'serialNumbers': [3844, 4601]}, {'cardModel': {'slug': 'flem-season-1-common', 'uid': 21, 'scarcity': {'name': 'common'}, 'artistName': 'Flem', 'season': 1}, 'serialNumbers': [4192, 4202]}, {'cardModel': {'slug': 'winnterzuko-season-1-common', 'uid': 27, 'scarcity': {'name': 'common'}, 'artistName': 'Winnterzuko', 'season': 1}, 'serialNumbers': [4076, 4151, 4298]}, {'cardModel': {'slug': 'youv-dee-season-1-common', 'uid': 17, 'scarcity': {'name': 'common'}, 'artistName': 'Youv Dee', 'season': 1}, 'serialNumbers': [4130, 4185]}, {'cardModel': {'slug': 'deen-burbigo-season-1-common', 'uid': 49, 'scarcity': {'name': 'common'}, 'artistName': 'Deen Burbigo', 'season': 1}, 'serialNumbers': [4138, 4208]}, {'cardModel': {'slug': 'spider-zed-season-1-common', 'uid': 23, 'scarcity': {'name': 'common'}, 'artistName': 'Spider Zed', 'season': 1}, 'serialNumbers': [4184, 4216]}, {'cardModel': {'slug': 'zinee-season-1-common', 'uid': 45, 'scarcity': {'name': 'common'}, 'artistName': 'Zinée', 'season': 1}, 'serialNumbers': [4241, 4566]}, {'cardModel': {'slug': 'le-reglement-season-1-common', 'uid': 1, 'scarcity': {'name': 'common'}, 'artistName': 'Le Règlement', 'season': 1}, 'serialNumbers': [4411, 4636]}], (2, 'common'): [{'cardModel': {'slug': '404billy-season-2-common', 'uid': 110, 'scarcity': {'name': 'common'}, 'artistName': '404Billy', 'season': 2}, 'serialNumbers': [1060, 1109, 1269]}, {'cardModel': {'slug': 'so-la-lune-season-2-common', 'uid': 82, 'scarcity': {'name': 'common'}, 'artistName': 'So La Lune', 'season': 2}, 'serialNumbers': [884, 1280]}, {'cardModel': {'slug': 'babysolo33-season-2-common', 'uid': 100, 'scarcity': {'name': 'common'}, 'artistName': 'BabySolo33', 'season': 2}, 'serialNumbers': [886, 921, 1143, 1280]}, {'cardModel': {'slug': 'winnterzuko-season-2-common', 'uid': 86, 'scarcity': {'name': 'common'}, 'artistName': 'Winnterzuko', 'season': 2}, 'serialNumbers': [1050, 1182]}]}\n",
      "SEASON 1 - Common:\n",
      "53 - JMK$ - #[3844, 4601]\n",
      "21 - Flem - #[4192, 4202]\n",
      "27 - Winnterzuko - #[4076, 4151, 4298]\n",
      "17 - Youv Dee - #[4130, 4185]\n",
      "49 - Deen Burbigo - #[4138, 4208]\n",
      "23 - Spider Zed - #[4184, 4216]\n",
      "45 - Zinée - #[4241, 4566]\n",
      "1 - Le Règlement - #[4411, 4636]\n",
      "\n",
      "SEASON 2 - Common:\n",
      "110 - 404Billy - #[1060, 1109, 1269]\n",
      "82 - So La Lune - #[884, 1280]\n",
      "100 - BabySolo33 - #[886, 921, 1143, 1280]\n",
      "86 - Winnterzuko - #[1050, 1182]\n",
      "\n"
     ]
    }
   ],
   "source": [
    "doublons_2 = find_doublons(card_list_second_account)\n",
    "\n",
    "print(doublons_2)\n",
    "\n",
    "print_good_format(doublons_2)"
   ]
  },
  {
   "cell_type": "markdown",
   "metadata": {},
   "source": [
    "<h3> MISSING CARDS </h3>"
   ]
  },
  {
   "cell_type": "code",
   "execution_count": 18,
   "metadata": {},
   "outputs": [
    {
     "name": "stdout",
     "output_type": "stream",
     "text": [
      "SEASON 1 - Common:\n",
      "3 - Caballero\n",
      "5 - JeanJass\n",
      "7 - Zuukou Mayzie\n",
      "9 - Benjamin Epps\n",
      "13 - So La Lune\n",
      "19 - Livaï\n",
      "29 - Jewel Usain\n",
      "31 - Slimka\n",
      "35 - Mahdi Ba\n",
      "37 - Jwles\n",
      "39 - Azur\n",
      "41 - Moji x Sboy\n",
      "47 - Skuna\n",
      "62 - Ysos\n",
      "\n",
      "SEASON 1 - Platinium:\n",
      "2 - Le Règlement\n",
      "4 - Caballero\n",
      "6 - JeanJass\n",
      "8 - Zuukou Mayzie\n",
      "10 - Benjamin Epps\n",
      "12 - thaHomey\n",
      "14 - So La Lune\n",
      "16 - Sheldon\n",
      "18 - Youv Dee\n",
      "20 - Livaï\n",
      "22 - Flem\n",
      "24 - Spider Zed\n",
      "26 - Lycos\n",
      "28 - Winnterzuko\n",
      "30 - Jewel Usain\n",
      "32 - Slimka\n",
      "34 - 8ruki\n",
      "36 - Mahdi Ba\n",
      "38 - Jwles\n",
      "40 - Azur\n",
      "42 - Moji x Sboy\n",
      "44 - Rowjay\n",
      "46 - Zinée\n",
      "48 - Skuna\n",
      "52 - Di-Meh\n",
      "54 - JMK$\n",
      "50 - Deen Burbigo\n",
      "57 - Kerchak\n",
      "59 - Doums\n",
      "61 - Bigflo\n",
      "63 - Ysos\n",
      "55 - Caba. & J.J.\n",
      "\n",
      "SEASON 1 - Halloween:\n",
      "75 - Zinée\n",
      "67 - Zuukou Mayzie\n",
      "72 - Youv Dee\n",
      "69 - JeanJass\n",
      "68 - Caballero\n",
      "71 - Le Règlement\n",
      "66 - Eden Dillinger\n",
      "70 - Winnterzuko\n",
      "73 - Vladimir Cauchemar \n",
      "\n",
      "SEASON 2 - Common:\n",
      "78 - Caballero\n",
      "90 - Kerchak\n",
      "76 - Le Règlement\n",
      "104 - Mehdi Maïzi\n",
      "88 - Vladimir Cauchemar\n",
      "120 - Mairo\n",
      "130 - Stony Stone\n",
      "92 - Zuukou Mayzie\n",
      "\n",
      "SEASON 2 - Holo:\n",
      "111 - 404Billy\n",
      "119 - Baby Neelou\n",
      "101 - BabySolo33\n",
      "79 - Caballero\n",
      "81 - JeanJass\n",
      "103 - Karmen\n",
      "91 - Kerchak\n",
      "77 - Le Règlement\n",
      "115 - Limsa d'Aulnay\n",
      "105 - Mehdi Maïzi\n",
      "117 - Roshi\n",
      "109 - Selug & $enar\n",
      "97 - Spider Zed\n",
      "107 - thaHomey\n",
      "89 - Vladimir Cauchemar\n",
      "99 - Wallace Cleaver\n",
      "87 - Winnterzuko\n",
      "95 - Youv Dee\n",
      "121 - Mairo\n",
      "125 - Rad Cartier\n",
      "85 - Deen Burbigo\n",
      "131 - Stony Stone\n",
      "93 - Zuukou Mayzie\n",
      "\n",
      "SEASON 2 - Live:\n",
      "134 - Rules Party 1\n",
      "\n"
     ]
    }
   ],
   "source": [
    "print_good_format(find_missing_cards(all_cards, card_list_second_account))"
   ]
  },
  {
   "cell_type": "markdown",
   "metadata": {},
   "source": [
    "***"
   ]
  },
  {
   "cell_type": "markdown",
   "metadata": {},
   "source": [
    "***"
   ]
  },
  {
   "cell_type": "markdown",
   "metadata": {},
   "source": [
    "<h1> SUMMARY </h1>"
   ]
  },
  {
   "cell_type": "markdown",
   "metadata": {},
   "source": [
    "<h3> MISSING CARDS </h3>\n",
    "New cards existing in the second account but not in the main one\n",
    "<p><i> If multiple card model are new, then the lowest serial is selected </i></p>"
   ]
  },
  {
   "cell_type": "code",
   "execution_count": 19,
   "metadata": {},
   "outputs": [
    {
     "name": "stdout",
     "output_type": "stream",
     "text": [
      "{}\n",
      "\n",
      "No card to display\n"
     ]
    }
   ],
   "source": [
    "not_in_main = find_missing_cards(card_list_second_account, card_list_main_account)\n",
    "not_in_main = get_lowest_serial_numbers(not_in_main)\n",
    "print(f\"{not_in_main}\\n\")\n",
    "print_good_format(not_in_main)"
   ]
  },
  {
   "cell_type": "markdown",
   "metadata": {},
   "source": [
    "<h3> LOWER SERIAL </h3>\n",
    "Cards that has a lower serial in the second account than in the main one"
   ]
  },
  {
   "cell_type": "code",
   "execution_count": 20,
   "metadata": {},
   "outputs": [
    {
     "name": "stdout",
     "output_type": "stream",
     "text": [
      "{}\n",
      "\n",
      "No card to display\n"
     ]
    }
   ],
   "source": [
    "lower_serial = find_common_card_models(card_list_main_account, card_list_second_account)\n",
    "print(f\"{lower_serial}\\n\")\n",
    "print_good_format(lower_serial)"
   ]
  },
  {
   "cell_type": "markdown",
   "metadata": {},
   "source": [
    "<h3><b> TO SEND (from second to main account) </b></h3>\n",
    "Cards to send from second to main because new or lower serial than an existing one"
   ]
  },
  {
   "cell_type": "code",
   "execution_count": 21,
   "metadata": {},
   "outputs": [
    {
     "name": "stdout",
     "output_type": "stream",
     "text": [
      "No card to display\n"
     ]
    }
   ],
   "source": [
    "# Combine the datasets\n",
    "to_send = {}\n",
    "\n",
    "# Merge first dataset into combined_data\n",
    "for key, value in not_in_main.items():\n",
    "    to_send.setdefault(key, []).extend(value)\n",
    "\n",
    "# Merge second dataset into combined_data\n",
    "for key, value in lower_serial.items():\n",
    "    to_send.setdefault(key, []).extend(value)\n",
    "\n",
    "# Print the combined data\n",
    "#print(to_send)\n",
    "\n",
    "print_good_format(to_send)"
   ]
  },
  {
   "cell_type": "markdown",
   "metadata": {},
   "source": [
    "***\n",
    "***"
   ]
  },
  {
   "cell_type": "markdown",
   "metadata": {},
   "source": [
    "<h3><b> NOT USEFULL CARDS </b></h3>"
   ]
  },
  {
   "cell_type": "code",
   "execution_count": 22,
   "metadata": {},
   "outputs": [
    {
     "name": "stdout",
     "output_type": "stream",
     "text": [
      "SEASON 1 - Common:\n",
      "21 - Flem - #[3464, 3873, 3107, 3883]\n",
      "1 - Le Règlement - #[3827]\n",
      "25 - Lycos - #[3385]\n",
      "58 - Doums - #[2627]\n",
      "43 - Rowjay - #[3770]\n",
      "15 - Sheldon - #[3129]\n",
      "62 - Ysos - #[2437]\n",
      "25 - Lycos - #[3946]\n",
      "51 - Di-Meh - #[3934]\n",
      "53 - JMK$ - #[4601, 3844]\n",
      "33 - 8ruki - #[4080]\n",
      "21 - Flem - #[4192, 4202]\n",
      "27 - Winnterzuko - #[4298, 4076, 4151]\n",
      "15 - Sheldon - #[4072]\n",
      "17 - Youv Dee - #[4185, 4130]\n",
      "49 - Deen Burbigo - #[4208, 4138]\n",
      "23 - Spider Zed - #[4184, 4216]\n",
      "45 - Zinée - #[4241, 4566]\n",
      "58 - Doums - #[3520]\n",
      "1 - Le Règlement - #[4411, 4636]\n",
      "43 - Rowjay - #[4623]\n",
      "60 - Bigflo - #[3647]\n",
      "56 - Kerchak - #[3666]\n",
      "11 - thaHomey - #[4492]\n",
      "\n",
      "SEASON 2 - Common:\n",
      "110 - 404Billy - #[1060, 1269, 1109]\n",
      "82 - So La Lune - #[1280, 884]\n",
      "118 - Baby Neelou - #[1061]\n",
      "108 - Selug & $enar - #[924]\n",
      "100 - BabySolo33 - #[1280, 921, 886, 1143]\n",
      "86 - Winnterzuko - #[1050, 1182]\n",
      "\n",
      "SEASON 2 - Holo:\n",
      "\n"
     ]
    }
   ],
   "source": [
    "def dict_substraction(card_list_1, card_list_2):\n",
    "    # Step 1: Create dictionaries with uid as the key and serialNumbers as the value for both datasets\n",
    "    serial_numbers_data1 = {}\n",
    "    for key, card_list in card_list_1.items():\n",
    "        serial_numbers_data1.update({card['cardModel']['uid']: card['serialNumbers'] for card in card_list})\n",
    "\n",
    "    serial_numbers_data2 = {}\n",
    "    for key, card_list in card_list_2.items():\n",
    "        serial_numbers_data2.update({card['cardModel']['uid']: card['serialNumbers'] for card in card_list})\n",
    "\n",
    "    # Step 2: Perform the subtraction for each uid\n",
    "    result_data = {}\n",
    "    for uid, serial_numbers in serial_numbers_data1.items():\n",
    "        serial_numbers_to_subtract = serial_numbers_data2.get(uid, [])\n",
    "        result_serial_numbers = list(set(serial_numbers) - set(serial_numbers_to_subtract))\n",
    "\n",
    "        if result_serial_numbers:\n",
    "            result_data[uid] = result_serial_numbers\n",
    "\n",
    "    # Step 3: Create the final result in the original format\n",
    "    result = {}\n",
    "    for key, card_list in card_list_1.items():\n",
    "        result[key] = [{'cardModel': card['cardModel'], 'serialNumbers': result_data[card['cardModel']['uid']]} for card in card_list if card['cardModel']['uid'] in result_data]\n",
    "    \n",
    "    return result\n",
    "\n",
    "lowest_doublons_main = get_lowest_serial_numbers(doublons_1)\n",
    "\n",
    "first_account = dict_substraction(doublons_1, lowest_doublons_main)\n",
    "second_account = dict_substraction(card_list_second_account, to_send)\n",
    "\n",
    "# Combine the datasets\n",
    "not_usefull = {}\n",
    "\n",
    "# Merge first dataset into combined_data\n",
    "for key, value in first_account.items():\n",
    "    not_usefull.setdefault(key, []).extend(value)\n",
    "\n",
    "# Merge second dataset into combined_data\n",
    "for key, value in second_account.items():\n",
    "    not_usefull.setdefault(key, []).extend(value)\n",
    "\n",
    "# Print the combined data\n",
    "#print(not_usefull)\n",
    "\n",
    "print_good_format(not_usefull)\n"
   ]
  },
  {
   "cell_type": "markdown",
   "metadata": {},
   "source": [
    "<h3> REAL RULEDEX </h3>"
   ]
  }
 ],
 "metadata": {
  "kernelspec": {
   "display_name": "Python 3",
   "language": "python",
   "name": "python3"
  },
  "language_info": {
   "codemirror_mode": {
    "name": "ipython",
    "version": 3
   },
   "file_extension": ".py",
   "mimetype": "text/x-python",
   "name": "python",
   "nbconvert_exporter": "python",
   "pygments_lexer": "ipython3",
   "version": "3.10.8"
  },
  "orig_nbformat": 4
 },
 "nbformat": 4,
 "nbformat_minor": 2
}
