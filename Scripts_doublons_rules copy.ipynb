{
 "cells": [
  {
   "cell_type": "markdown",
   "metadata": {},
   "source": [
    "<h1> SET-UP </h1>"
   ]
  },
  {
   "cell_type": "markdown",
   "metadata": {},
   "source": [
    "<h3> DEFINITIONS </h3>"
   ]
  },
  {
   "cell_type": "code",
   "execution_count": 12,
   "metadata": {},
   "outputs": [],
   "source": [
    "import json\n",
    "import requests\n",
    "\n",
    "RULES_URL = 'https://api.rules.art/graphql'"
   ]
  },
  {
   "cell_type": "markdown",
   "metadata": {},
   "source": [
    "<h3> FUNCTIONS </h3>"
   ]
  },
  {
   "cell_type": "code",
   "execution_count": 13,
   "metadata": {},
   "outputs": [],
   "source": [
    "def group_by_season(card_list):\n",
    "    # Grouping by season\n",
    "    cards = {}\n",
    "    for card in card_list:\n",
    "        if 'cardModel' in card:\n",
    "            season = card['cardModel']['season']\n",
    "        else:\n",
    "            season = card['season']\n",
    "        if season not in cards:\n",
    "            cards[season] = []\n",
    "        cards[season].append(card)\n",
    "\n",
    "    return cards"
   ]
  },
  {
   "cell_type": "code",
   "execution_count": 14,
   "metadata": {},
   "outputs": [],
   "source": [
    "def all_cards_model():\n",
    "    query = f\"\"\"\n",
    "    {{\n",
    "        allCardModels{{\n",
    "            slug,\n",
    "            uid,\n",
    "            scarcity{{\n",
    "                name\n",
    "            }},\n",
    "            season,\n",
    "            artistName\n",
    "        }}\n",
    "    }}\n",
    "    \"\"\"\n",
    "\n",
    "    r = requests.post(RULES_URL, json={'query': query})\n",
    "    #print(r.status_code)\n",
    "\n",
    "    try:\n",
    "        r_data = r.json()\n",
    "        rules_data = r_data.get('data', {}).get('allCardModels')\n",
    "        return group_by_season(rules_data)\n",
    "    except ValueError:\n",
    "        raise ValueError(\"Error: Invalid JSON response from the API.\")\n",
    "\n",
    "    "
   ]
  },
  {
   "cell_type": "code",
   "execution_count": 15,
   "metadata": {},
   "outputs": [],
   "source": [
    "def owned_cards(account_name):\n",
    "  \n",
    "  query = f\"\"\"\n",
    "  {{\n",
    "    user(slug: \"{account_name}\") {{\n",
    "      ownedCardModels {{\n",
    "        cardModel {{\n",
    "          slug,\n",
    "          uid,\n",
    "          scarcity {{\n",
    "            name\n",
    "          }}\n",
    "          artistName,\n",
    "          season\n",
    "        }},\n",
    "        serialNumbers\n",
    "      }}\n",
    "    }}\n",
    "  }}\n",
    "  \"\"\"\n",
    "  r = requests.post(RULES_URL, json={'query': query})\n",
    "  #print(r.status_code)\n",
    "\n",
    "  try:\n",
    "    r_data = r.json()\n",
    "    user_data = r_data.get('data', {}).get('user', {}).get('ownedCardModels')\n",
    "    return group_by_season(user_data)\n",
    "  except ValueError:\n",
    "      raise ValueError(\"Error: Invalid JSON response from the API.\")\n",
    "  \n",
    "  \n"
   ]
  },
  {
   "cell_type": "code",
   "execution_count": 16,
   "metadata": {},
   "outputs": [],
   "source": [
    "def all_owned_cards(card_list):\n",
    "    seen_slugs = set()\n",
    "    doublons = {}\n",
    "    # Find serialNumbers[] with more than 1 value\n",
    "    for card in card_list:\n",
    "        slug = card['cardModel']['slug']\n",
    "        serial_numbers = card['serialNumbers']\n",
    "        if len(serial_numbers) > 1:\n",
    "            doublons[slug] = serial_numbers\n",
    "        else:\n",
    "            seen_slugs.add(slug)\n",
    "    return doublons"
   ]
  },
  {
   "cell_type": "code",
   "execution_count": 17,
   "metadata": {},
   "outputs": [],
   "source": [
    "def find_doublons(card_list):\n",
    "  seen_slugs = set()\n",
    "  doublons = {}\n",
    "  # Find serialNumbers[] with more than 1 value\n",
    "  for card in card_list:\n",
    "      slug = card['cardModel']['slug']\n",
    "      serial_numbers = card['serialNumbers']\n",
    "      if len(serial_numbers) > 1:\n",
    "          doublons[slug] = serial_numbers\n",
    "      else:\n",
    "          seen_slugs.add(slug)\n",
    "  return doublons"
   ]
  },
  {
   "cell_type": "code",
   "execution_count": 18,
   "metadata": {},
   "outputs": [],
   "source": [
    "def print_good_format(card_list):\n",
    "\n",
    "    # Printing the data in the desired format\n",
    "\n",
    "    for season, slugs in card_list.items():\n",
    "        print(f\"SEASON {season}:\")\n",
    "        for slug in slugs:\n",
    "            if 'cardModel' in slug:\n",
    "                serial_numbers = slug['serialNumbers']\n",
    "                artist_name = slug['cardModel']['artistName']\n",
    "                scarcity_name = slug['cardModel']['scarcity']['name']\n",
    "                uid = slug['cardModel']['uid']\n",
    "                print(f\"{uid} - {artist_name} - {scarcity_name} - #{serial_numbers}\")\n",
    "            else:\n",
    "                artist_name = slug['artistName']\n",
    "                scarcity_name = slug['scarcity']['name']\n",
    "                uid = slug['uid']\n",
    "                print(f\"{uid} - {artist_name} - {scarcity_name}\")\n",
    "        print()  # Empty line between seasons"
   ]
  },
  {
   "cell_type": "markdown",
   "metadata": {},
   "source": [
    "***"
   ]
  },
  {
   "cell_type": "markdown",
   "metadata": {},
   "source": [
    "<h1> RULES - ALL CARDS </h1>"
   ]
  },
  {
   "cell_type": "code",
   "execution_count": 19,
   "metadata": {},
   "outputs": [
    {
     "name": "stdout",
     "output_type": "stream",
     "text": [
      "SEASON 1:\n",
      "1 - Le Règlement - common\n",
      "2 - Le Règlement - platinium\n",
      "3 - Caballero - common\n",
      "4 - Caballero - platinium\n",
      "5 - JeanJass - common\n",
      "6 - JeanJass - platinium\n",
      "7 - Zuukou Mayzie - common\n",
      "8 - Zuukou Mayzie - platinium\n",
      "9 - Benjamin Epps - common\n",
      "10 - Benjamin Epps - platinium\n",
      "11 - thaHomey - common\n",
      "12 - thaHomey - platinium\n",
      "13 - So La Lune - common\n",
      "14 - So La Lune - platinium\n",
      "15 - Sheldon - common\n",
      "16 - Sheldon - platinium\n",
      "17 - Youv Dee - common\n",
      "18 - Youv Dee - platinium\n",
      "19 - Livaï - common\n",
      "20 - Livaï - platinium\n",
      "21 - Flem - common\n",
      "22 - Flem - platinium\n",
      "23 - Spider Zed - common\n",
      "24 - Spider Zed - platinium\n",
      "25 - Lycos - common\n",
      "26 - Lycos - platinium\n",
      "27 - Winnterzuko - common\n",
      "28 - Winnterzuko - platinium\n",
      "29 - Jewel Usain - common\n",
      "30 - Jewel Usain - platinium\n",
      "31 - Slimka - common\n",
      "32 - Slimka - platinium\n",
      "33 - 8ruki - common\n",
      "34 - 8ruki - platinium\n",
      "35 - Mahdi Ba - common\n",
      "36 - Mahdi Ba - platinium\n",
      "37 - Jwles - common\n",
      "38 - Jwles - platinium\n",
      "39 - Azur - common\n",
      "40 - Azur - platinium\n",
      "41 - Moji x Sboy - common\n",
      "42 - Moji x Sboy - platinium\n",
      "43 - Rowjay - common\n",
      "44 - Rowjay - platinium\n",
      "45 - Zinée - common\n",
      "46 - Zinée - platinium\n",
      "47 - Skuna - common\n",
      "48 - Skuna - platinium\n",
      "51 - Di-Meh - common\n",
      "52 - Di-Meh - platinium\n",
      "53 - JMK$ - common\n",
      "54 - JMK$ - platinium\n",
      "49 - Deen Burbigo - common\n",
      "50 - Deen Burbigo - platinium\n",
      "56 - Kerchak - common\n",
      "57 - Kerchak - platinium\n",
      "58 - Doums - common\n",
      "59 - Doums - platinium\n",
      "75 - Zinée - halloween\n",
      "67 - Zuukou Mayzie - halloween\n",
      "72 - Youv Dee - halloween\n",
      "69 - JeanJass - halloween\n",
      "68 - Caballero - halloween\n",
      "71 - Le Règlement - halloween\n",
      "66 - Eden Dillinger - halloween\n",
      "70 - Winnterzuko - halloween\n",
      "73 - Vladimir Cauchemar  - halloween\n",
      "60 - Bigflo - common\n",
      "61 - Bigflo - platinium\n",
      "62 - Ysos - common\n",
      "63 - Ysos - platinium\n",
      "55 - Caba. & J.J. - platinium\n",
      "\n",
      "SEASON 2:\n",
      "110 - 404Billy - common\n",
      "111 - 404Billy - holo\n",
      "118 - Baby Neelou - common\n",
      "119 - Baby Neelou - holo\n",
      "100 - BabySolo33 - common\n",
      "101 - BabySolo33 - holo\n",
      "78 - Caballero - common\n",
      "79 - Caballero - holo\n",
      "112 - HOUDI - common\n",
      "113 - HOUDI - holo\n",
      "80 - JeanJass - common\n",
      "81 - JeanJass - holo\n",
      "102 - Karmen - common\n",
      "103 - Karmen - holo\n",
      "90 - Kerchak - common\n",
      "91 - Kerchak - holo\n",
      "76 - Le Règlement - common\n",
      "77 - Le Règlement - holo\n",
      "114 - Limsa d'Aulnay - common\n",
      "115 - Limsa d'Aulnay - holo\n",
      "104 - Mehdi Maïzi - common\n",
      "105 - Mehdi Maïzi - holo\n",
      "116 - Roshi - common\n",
      "117 - Roshi - holo\n",
      "108 - Selug & $enar - common\n",
      "109 - Selug & $enar - holo\n",
      "82 - So La Lune - common\n",
      "83 - So La Lune - holo\n",
      "96 - Spider Zed - common\n",
      "97 - Spider Zed - holo\n",
      "106 - thaHomey - common\n",
      "107 - thaHomey - holo\n",
      "88 - Vladimir Cauchemar - common\n",
      "89 - Vladimir Cauchemar - holo\n",
      "98 - Wallace Cleaver - common\n",
      "99 - Wallace Cleaver - holo\n",
      "86 - Winnterzuko - common\n",
      "87 - Winnterzuko - holo\n",
      "94 - Youv Dee - common\n",
      "95 - Youv Dee - holo\n",
      "120 - Mairo - common\n",
      "121 - Mairo - holo\n",
      "134 - Rules Party 1 - live\n",
      "124 - Rad Cartier - common\n",
      "125 - Rad Cartier - holo\n",
      "84 - Deen Burbigo - common\n",
      "85 - Deen Burbigo - holo\n",
      "130 - Stony Stone - common\n",
      "131 - Stony Stone - holo\n",
      "\n"
     ]
    }
   ],
   "source": [
    "all_cards = all_cards_model()\n",
    "#print(f\"{all_cards}\\n\")\n",
    "print_good_format(all_cards)"
   ]
  },
  {
   "cell_type": "markdown",
   "metadata": {},
   "source": [
    "***"
   ]
  },
  {
   "cell_type": "markdown",
   "metadata": {},
   "source": [
    "<h1> MAIN ACCOUNT ({{main_account}}) </h1>"
   ]
  },
  {
   "cell_type": "code",
   "execution_count": 20,
   "metadata": {},
   "outputs": [
    {
     "name": "stdout",
     "output_type": "stream",
     "text": [
      "{1: [{'cardModel': {'slug': 'zinee-season-1-halloween', 'uid': 75, 'scarcity': {'name': 'halloween'}, 'artistName': 'Zinée', 'season': 1}, 'serialNumbers': [1842]}, {'cardModel': {'slug': 'jeanjass-season-1-halloween', 'uid': 69, 'scarcity': {'name': 'halloween'}, 'artistName': 'JeanJass', 'season': 1}, 'serialNumbers': [2081]}, {'cardModel': {'slug': 'caballero-season-1-halloween', 'uid': 68, 'scarcity': {'name': 'halloween'}, 'artistName': 'Caballero', 'season': 1}, 'serialNumbers': [1763]}, {'cardModel': {'slug': 'flem-season-1-common', 'uid': 21, 'scarcity': {'name': 'common'}, 'artistName': 'Flem', 'season': 1}, 'serialNumbers': [2808, 3107, 3464, 3873, 3883]}, {'cardModel': {'slug': 'le-reglement-season-1-common', 'uid': 1, 'scarcity': {'name': 'common'}, 'artistName': 'Le Règlement', 'season': 1}, 'serialNumbers': [1928, 3827]}, {'cardModel': {'slug': 'lycos-season-1-common', 'uid': 25, 'scarcity': {'name': 'common'}, 'artistName': 'Lycos', 'season': 1}, 'serialNumbers': [3051, 3385]}, {'cardModel': {'slug': 'doums-season-1-common', 'uid': 58, 'scarcity': {'name': 'common'}, 'artistName': 'Doums', 'season': 1}, 'serialNumbers': [1938, 2627]}, {'cardModel': {'slug': 'rowjay-season-1-common', 'uid': 43, 'scarcity': {'name': 'common'}, 'artistName': 'Rowjay', 'season': 1}, 'serialNumbers': [1998, 3770]}, {'cardModel': {'slug': 'spider-zed-season-1-common', 'uid': 23, 'scarcity': {'name': 'common'}, 'artistName': 'Spider Zed', 'season': 1}, 'serialNumbers': [3287]}, {'cardModel': {'slug': 'jmks-season-1-common', 'uid': 53, 'scarcity': {'name': 'common'}, 'artistName': 'JMK$', 'season': 1}, 'serialNumbers': [3391]}, {'cardModel': {'slug': 'jewel-usain-season-1-platinium', 'uid': 30, 'scarcity': {'name': 'platinium'}, 'artistName': 'Jewel Usain', 'season': 1}, 'serialNumbers': [261]}, {'cardModel': {'slug': 'slimka-season-1-common', 'uid': 31, 'scarcity': {'name': 'common'}, 'artistName': 'Slimka', 'season': 1}, 'serialNumbers': [3274]}, {'cardModel': {'slug': 'jewel-usain-season-1-common', 'uid': 29, 'scarcity': {'name': 'common'}, 'artistName': 'Jewel Usain', 'season': 1}, 'serialNumbers': [3227]}, {'cardModel': {'slug': 'benjamin-epps-season-1-common', 'uid': 9, 'scarcity': {'name': 'common'}, 'artistName': 'Benjamin Epps', 'season': 1}, 'serialNumbers': [3623]}, {'cardModel': {'slug': 'sheldon-season-1-common', 'uid': 15, 'scarcity': {'name': 'common'}, 'artistName': 'Sheldon', 'season': 1}, 'serialNumbers': [2923, 3129]}, {'cardModel': {'slug': 'azur-season-1-common', 'uid': 39, 'scarcity': {'name': 'common'}, 'artistName': 'Azur', 'season': 1}, 'serialNumbers': [3614]}, {'cardModel': {'slug': 'ysos-season-1-common', 'uid': 62, 'scarcity': {'name': 'common'}, 'artistName': 'Ysos', 'season': 1}, 'serialNumbers': [2309, 2437]}, {'cardModel': {'slug': 'skuna-season-1-common', 'uid': 47, 'scarcity': {'name': 'common'}, 'artistName': 'Skuna', 'season': 1}, 'serialNumbers': [3682]}, {'cardModel': {'slug': 'winnterzuko-season-1-common', 'uid': 27, 'scarcity': {'name': 'common'}, 'artistName': 'Winnterzuko', 'season': 1}, 'serialNumbers': [3622]}, {'cardModel': {'slug': 'bigflo-season-1-common', 'uid': 60, 'scarcity': {'name': 'common'}, 'artistName': 'Bigflo', 'season': 1}, 'serialNumbers': [2579]}, {'cardModel': {'slug': '8ruki-season-1-common', 'uid': 33, 'scarcity': {'name': 'common'}, 'artistName': '8ruki', 'season': 1}, 'serialNumbers': [3966]}, {'cardModel': {'slug': 'di-meh-season-1-common', 'uid': 51, 'scarcity': {'name': 'common'}, 'artistName': 'Di-Meh', 'season': 1}, 'serialNumbers': [3873]}, {'cardModel': {'slug': 'moji-x-sboy-season-1-common', 'uid': 41, 'scarcity': {'name': 'common'}, 'artistName': 'Moji x Sboy', 'season': 1}, 'serialNumbers': [3718]}, {'cardModel': {'slug': 'deen-burbigo-season-1-common', 'uid': 49, 'scarcity': {'name': 'common'}, 'artistName': 'Deen Burbigo', 'season': 1}, 'serialNumbers': [3926]}, {'cardModel': {'slug': 'kerchak-season-1-common', 'uid': 56, 'scarcity': {'name': 'common'}, 'artistName': 'Kerchak', 'season': 1}, 'serialNumbers': [3101]}, {'cardModel': {'slug': 'youv-dee-season-1-common', 'uid': 17, 'scarcity': {'name': 'common'}, 'artistName': 'Youv Dee', 'season': 1}, 'serialNumbers': [4067]}, {'cardModel': {'slug': 'zinee-season-1-common', 'uid': 45, 'scarcity': {'name': 'common'}, 'artistName': 'Zinée', 'season': 1}, 'serialNumbers': [4034]}, {'cardModel': {'slug': 'mahdi-ba-season-1-common', 'uid': 35, 'scarcity': {'name': 'common'}, 'artistName': 'Mahdi Ba', 'season': 1}, 'serialNumbers': [4119]}, {'cardModel': {'slug': 'thahomey-season-1-common', 'uid': 11, 'scarcity': {'name': 'common'}, 'artistName': 'thaHomey', 'season': 1}, 'serialNumbers': [4152]}, {'cardModel': {'slug': 'jeanjass-season-1-common', 'uid': 5, 'scarcity': {'name': 'common'}, 'artistName': 'JeanJass', 'season': 1}, 'serialNumbers': [4604]}, {'cardModel': {'slug': 'livai-season-1-common', 'uid': 19, 'scarcity': {'name': 'common'}, 'artistName': 'Livaï', 'season': 1}, 'serialNumbers': [4455]}, {'cardModel': {'slug': 'benjamin-epps-season-1-platinium', 'uid': 10, 'scarcity': {'name': 'platinium'}, 'artistName': 'Benjamin Epps', 'season': 1}, 'serialNumbers': [181]}], 2: [{'cardModel': {'slug': 'thahomey-season-2-common', 'uid': 106, 'scarcity': {'name': 'common'}, 'artistName': 'thaHomey', 'season': 2}, 'serialNumbers': [281]}, {'cardModel': {'slug': 'houdi-season-2-holo', 'uid': 113, 'scarcity': {'name': 'holo'}, 'artistName': 'HOUDI', 'season': 2}, 'serialNumbers': [176, 256]}, {'cardModel': {'slug': 'jeanjass-season-2-common', 'uid': 80, 'scarcity': {'name': 'common'}, 'artistName': 'JeanJass', 'season': 2}, 'serialNumbers': [282]}, {'cardModel': {'slug': '404billy-season-2-common', 'uid': 110, 'scarcity': {'name': 'common'}, 'artistName': '404Billy', 'season': 2}, 'serialNumbers': [415]}, {'cardModel': {'slug': 'spider-zed-season-2-common', 'uid': 96, 'scarcity': {'name': 'common'}, 'artistName': 'Spider Zed', 'season': 2}, 'serialNumbers': [202]}, {'cardModel': {'slug': 'so-la-lune-season-2-common', 'uid': 82, 'scarcity': {'name': 'common'}, 'artistName': 'So La Lune', 'season': 2}, 'serialNumbers': [419]}, {'cardModel': {'slug': 'selug-and-senar-season-2-common', 'uid': 108, 'scarcity': {'name': 'common'}, 'artistName': 'Selug & $enar', 'season': 2}, 'serialNumbers': [18]}, {'cardModel': {'slug': 'wallace-cleaver-season-2-common', 'uid': 98, 'scarcity': {'name': 'common'}, 'artistName': 'Wallace Cleaver', 'season': 2}, 'serialNumbers': [272]}, {'cardModel': {'slug': 'baby-neelou-season-2-common', 'uid': 118, 'scarcity': {'name': 'common'}, 'artistName': 'Baby Neelou', 'season': 2}, 'serialNumbers': [416]}, {'cardModel': {'slug': 'deen-burbigo-season-2-common', 'uid': 84, 'scarcity': {'name': 'common'}, 'artistName': 'Deen Burbigo', 'season': 2}, 'serialNumbers': [68]}, {'cardModel': {'slug': 'so-la-lune-season-2-holo', 'uid': 83, 'scarcity': {'name': 'holo'}, 'artistName': 'So La Lune', 'season': 2}, 'serialNumbers': [286]}, {'cardModel': {'slug': 'winnterzuko-season-2-common', 'uid': 86, 'scarcity': {'name': 'common'}, 'artistName': 'Winnterzuko', 'season': 2}, 'serialNumbers': [999]}, {'cardModel': {'slug': 'youv-dee-season-2-common', 'uid': 94, 'scarcity': {'name': 'common'}, 'artistName': 'Youv Dee', 'season': 2}, 'serialNumbers': [1220]}, {'cardModel': {'slug': 'babysolo33-season-2-common', 'uid': 100, 'scarcity': {'name': 'common'}, 'artistName': 'BabySolo33', 'season': 2}, 'serialNumbers': [784]}, {'cardModel': {'slug': 'houdi-season-2-common', 'uid': 112, 'scarcity': {'name': 'common'}, 'artistName': 'HOUDI', 'season': 2}, 'serialNumbers': [986]}, {'cardModel': {'slug': 'karmen-season-2-common', 'uid': 102, 'scarcity': {'name': 'common'}, 'artistName': 'Karmen', 'season': 2}, 'serialNumbers': [1250]}, {'cardModel': {'slug': 'roshi-season-2-common', 'uid': 116, 'scarcity': {'name': 'common'}, 'artistName': 'Roshi', 'season': 2}, 'serialNumbers': [895]}]}\n"
     ]
    }
   ],
   "source": [
    "main_account = input(\"What is your main account profile name ? \").casefold().replace(\" \", \"\")\n",
    "card_list_main_account = owned_cards(main_account)\n",
    "print(card_list_main_account)"
   ]
  },
  {
   "cell_type": "markdown",
   "metadata": {},
   "source": [
    "<h3> ALL CARDS OWNED </h3>"
   ]
  },
  {
   "cell_type": "code",
   "execution_count": 21,
   "metadata": {},
   "outputs": [
    {
     "name": "stdout",
     "output_type": "stream",
     "text": [
      "SEASON 1:\n",
      "75 - Zinée - halloween - #[1842]\n",
      "69 - JeanJass - halloween - #[2081]\n",
      "68 - Caballero - halloween - #[1763]\n",
      "21 - Flem - common - #[2808, 3107, 3464, 3873, 3883]\n",
      "1 - Le Règlement - common - #[1928, 3827]\n",
      "25 - Lycos - common - #[3051, 3385]\n",
      "58 - Doums - common - #[1938, 2627]\n",
      "43 - Rowjay - common - #[1998, 3770]\n",
      "23 - Spider Zed - common - #[3287]\n",
      "53 - JMK$ - common - #[3391]\n",
      "30 - Jewel Usain - platinium - #[261]\n",
      "31 - Slimka - common - #[3274]\n",
      "29 - Jewel Usain - common - #[3227]\n",
      "9 - Benjamin Epps - common - #[3623]\n",
      "15 - Sheldon - common - #[2923, 3129]\n",
      "39 - Azur - common - #[3614]\n",
      "62 - Ysos - common - #[2309, 2437]\n",
      "47 - Skuna - common - #[3682]\n",
      "27 - Winnterzuko - common - #[3622]\n",
      "60 - Bigflo - common - #[2579]\n",
      "33 - 8ruki - common - #[3966]\n",
      "51 - Di-Meh - common - #[3873]\n",
      "41 - Moji x Sboy - common - #[3718]\n",
      "49 - Deen Burbigo - common - #[3926]\n",
      "56 - Kerchak - common - #[3101]\n",
      "17 - Youv Dee - common - #[4067]\n",
      "45 - Zinée - common - #[4034]\n",
      "35 - Mahdi Ba - common - #[4119]\n",
      "11 - thaHomey - common - #[4152]\n",
      "5 - JeanJass - common - #[4604]\n",
      "19 - Livaï - common - #[4455]\n",
      "10 - Benjamin Epps - platinium - #[181]\n",
      "\n",
      "SEASON 2:\n",
      "106 - thaHomey - common - #[281]\n",
      "113 - HOUDI - holo - #[176, 256]\n",
      "80 - JeanJass - common - #[282]\n",
      "110 - 404Billy - common - #[415]\n",
      "96 - Spider Zed - common - #[202]\n",
      "82 - So La Lune - common - #[419]\n",
      "108 - Selug & $enar - common - #[18]\n",
      "98 - Wallace Cleaver - common - #[272]\n",
      "118 - Baby Neelou - common - #[416]\n",
      "84 - Deen Burbigo - common - #[68]\n",
      "83 - So La Lune - holo - #[286]\n",
      "86 - Winnterzuko - common - #[999]\n",
      "94 - Youv Dee - common - #[1220]\n",
      "100 - BabySolo33 - common - #[784]\n",
      "112 - HOUDI - common - #[986]\n",
      "102 - Karmen - common - #[1250]\n",
      "116 - Roshi - common - #[895]\n",
      "\n"
     ]
    }
   ],
   "source": [
    "print_good_format(card_list_main_account)"
   ]
  },
  {
   "cell_type": "markdown",
   "metadata": {},
   "source": [
    "<h3> DOUBLONS </h3>"
   ]
  },
  {
   "cell_type": "code",
   "execution_count": 22,
   "metadata": {},
   "outputs": [
    {
     "ename": "TypeError",
     "evalue": "'int' object is not subscriptable",
     "output_type": "error",
     "traceback": [
      "\u001b[0;31m---------------------------------------------------------------------------\u001b[0m",
      "\u001b[0;31mTypeError\u001b[0m                                 Traceback (most recent call last)",
      "Cell \u001b[0;32mIn[22], line 1\u001b[0m\n\u001b[0;32m----> 1\u001b[0m doublons \u001b[39m=\u001b[39m find_doublons(card_list_main_account)\n\u001b[1;32m      4\u001b[0m \u001b[39mprint\u001b[39m(\u001b[39mF\u001b[39m\u001b[39m\"\u001b[39m\u001b[39mDoublons (\u001b[39m\u001b[39m{\u001b[39;00mmain_account\u001b[39m}\u001b[39;00m\u001b[39m):\u001b[39m\u001b[39m\"\u001b[39m)\n\u001b[1;32m      5\u001b[0m \u001b[39mfor\u001b[39;00m slug, serial_numbers \u001b[39min\u001b[39;00m doublons\u001b[39m.\u001b[39mitems():\n",
      "Cell \u001b[0;32mIn[17], line 6\u001b[0m, in \u001b[0;36mfind_doublons\u001b[0;34m(card_list)\u001b[0m\n\u001b[1;32m      4\u001b[0m \u001b[39m# Find serialNumbers[] with more than 1 value\u001b[39;00m\n\u001b[1;32m      5\u001b[0m \u001b[39mfor\u001b[39;00m card \u001b[39min\u001b[39;00m card_list:\n\u001b[0;32m----> 6\u001b[0m     slug \u001b[39m=\u001b[39m card[\u001b[39m'\u001b[39;49m\u001b[39mcardModel\u001b[39;49m\u001b[39m'\u001b[39;49m][\u001b[39m'\u001b[39m\u001b[39mslug\u001b[39m\u001b[39m'\u001b[39m]\n\u001b[1;32m      7\u001b[0m     serial_numbers \u001b[39m=\u001b[39m card[\u001b[39m'\u001b[39m\u001b[39mserialNumbers\u001b[39m\u001b[39m'\u001b[39m]\n\u001b[1;32m      8\u001b[0m     \u001b[39mif\u001b[39;00m \u001b[39mlen\u001b[39m(serial_numbers) \u001b[39m>\u001b[39m \u001b[39m1\u001b[39m:\n",
      "\u001b[0;31mTypeError\u001b[0m: 'int' object is not subscriptable"
     ]
    }
   ],
   "source": [
    "doublons = find_doublons(card_list_main_account)\n",
    "\n",
    "\n",
    "print(F\"Doublons ({main_account}):\")\n",
    "for slug, serial_numbers in doublons.items():\n",
    "    print(f\"{slug}: {serial_numbers}\")\n",
    "\n",
    "#print(json.dumps(card_list_main_account, indent=2))"
   ]
  },
  {
   "cell_type": "markdown",
   "metadata": {},
   "source": [
    "***"
   ]
  },
  {
   "cell_type": "markdown",
   "metadata": {},
   "source": [
    "<h1> SECOND ACCOUNT ({{second_account}}) </h1> "
   ]
  },
  {
   "cell_type": "code",
   "execution_count": null,
   "metadata": {},
   "outputs": [
    {
     "ename": "AttributeError",
     "evalue": "'NoneType' object has no attribute 'get'",
     "output_type": "error",
     "traceback": [
      "\u001b[0;31m---------------------------------------------------------------------------\u001b[0m",
      "\u001b[0;31mAttributeError\u001b[0m                            Traceback (most recent call last)",
      "Cell \u001b[0;32mIn[188], line 2\u001b[0m\n\u001b[1;32m      1\u001b[0m second_account \u001b[39m=\u001b[39m \u001b[39minput\u001b[39m(\u001b[39m\"\u001b[39m\u001b[39mWhat is your second account profile name ? \u001b[39m\u001b[39m\"\u001b[39m)\u001b[39m.\u001b[39mcasefold()\u001b[39m.\u001b[39mreplace(\u001b[39m\"\u001b[39m\u001b[39m \u001b[39m\u001b[39m\"\u001b[39m, \u001b[39m\"\u001b[39m\u001b[39m\"\u001b[39m)\n\u001b[0;32m----> 2\u001b[0m card_list_second_account \u001b[39m=\u001b[39m execute_query(second_account)\n",
      "Cell \u001b[0;32mIn[181], line 26\u001b[0m, in \u001b[0;36mexecute_query\u001b[0;34m(account_name)\u001b[0m\n\u001b[1;32m     24\u001b[0m \u001b[39mtry\u001b[39;00m:\n\u001b[1;32m     25\u001b[0m   r_data \u001b[39m=\u001b[39m r\u001b[39m.\u001b[39mjson()\n\u001b[0;32m---> 26\u001b[0m   user_data \u001b[39m=\u001b[39m r_data\u001b[39m.\u001b[39;49mget(\u001b[39m'\u001b[39;49m\u001b[39mdata\u001b[39;49m\u001b[39m'\u001b[39;49m, {})\u001b[39m.\u001b[39;49mget(\u001b[39m'\u001b[39;49m\u001b[39muser\u001b[39;49m\u001b[39m'\u001b[39;49m, {})\u001b[39m.\u001b[39;49mget(\u001b[39m'\u001b[39m\u001b[39mownedCardModels\u001b[39m\u001b[39m'\u001b[39m)\n\u001b[1;32m     27\u001b[0m   \u001b[39mreturn\u001b[39;00m user_data\n\u001b[1;32m     28\u001b[0m \u001b[39mexcept\u001b[39;00m \u001b[39mValueError\u001b[39;00m:\n",
      "\u001b[0;31mAttributeError\u001b[0m: 'NoneType' object has no attribute 'get'"
     ]
    }
   ],
   "source": [
    "second_account = input(\"What is your second account profile name ? \").casefold().replace(\" \", \"\")\n",
    "card_list_second_account = execute_query(second_account)"
   ]
  },
  {
   "cell_type": "markdown",
   "metadata": {},
   "source": [
    "<h3> ALL CARDS OWNED </h3>"
   ]
  },
  {
   "cell_type": "code",
   "execution_count": null,
   "metadata": {},
   "outputs": [
    {
     "name": "stdout",
     "output_type": "stream",
     "text": [
      "All cards owned (foguete):\n",
      "zinee-season-1-halloween: [1842]\n",
      "jeanjass-season-1-halloween: [2081]\n",
      "caballero-season-1-halloween: [1763]\n",
      "flem-season-1-common: [2808, 3107, 3464, 3873, 3883]\n",
      "le-reglement-season-1-common: [1928, 3827]\n",
      "lycos-season-1-common: [3051, 3385]\n",
      "doums-season-1-common: [1938, 2627]\n",
      "rowjay-season-1-common: [1998, 3770]\n",
      "spider-zed-season-1-common: [3287]\n",
      "jmks-season-1-common: [3391]\n",
      "jewel-usain-season-1-platinium: [261]\n",
      "slimka-season-1-common: [3274]\n",
      "jewel-usain-season-1-common: [3227]\n",
      "benjamin-epps-season-1-common: [3623]\n",
      "sheldon-season-1-common: [2923, 3129]\n",
      "azur-season-1-common: [3614]\n",
      "ysos-season-1-common: [2309, 2437]\n",
      "skuna-season-1-common: [3682]\n",
      "winnterzuko-season-1-common: [3622]\n",
      "bigflo-season-1-common: [2579]\n",
      "8ruki-season-1-common: [3966]\n",
      "di-meh-season-1-common: [3873]\n",
      "moji-x-sboy-season-1-common: [3718]\n",
      "deen-burbigo-season-1-common: [3926]\n",
      "kerchak-season-1-common: [3101]\n",
      "youv-dee-season-1-common: [4067]\n",
      "zinee-season-1-common: [4034]\n",
      "mahdi-ba-season-1-common: [4119]\n",
      "thahomey-season-1-common: [4152]\n",
      "jeanjass-season-1-common: [4604]\n",
      "livai-season-1-common: [4455]\n",
      "benjamin-epps-season-1-platinium: [181]\n",
      "thahomey-season-2-common: [281]\n",
      "houdi-season-2-holo: [176, 256]\n",
      "jeanjass-season-2-common: [282]\n",
      "404billy-season-2-common: [415]\n",
      "spider-zed-season-2-common: [202]\n",
      "so-la-lune-season-2-common: [419]\n",
      "selug-and-senar-season-2-common: [18]\n",
      "wallace-cleaver-season-2-common: [272]\n",
      "baby-neelou-season-2-common: [416]\n",
      "deen-burbigo-season-2-common: [68]\n",
      "so-la-lune-season-2-holo: [286]\n",
      "winnterzuko-season-2-common: [999]\n",
      "youv-dee-season-2-common: [1220]\n",
      "babysolo33-season-2-common: [784]\n",
      "houdi-season-2-common: [986]\n",
      "karmen-season-2-common: [1250]\n",
      "roshi-season-2-common: [895]\n"
     ]
    }
   ],
   "source": [
    "#print(card_list_main_account)\n",
    "\n",
    "cards = all_owned_cards(card_list_second_account)\n",
    "\n",
    "print(F\"All cards owned ({second_account}):\")\n",
    "for slug, serial_numbers in cards.items():\n",
    "    print(f\"{slug}: {serial_numbers}\")"
   ]
  },
  {
   "cell_type": "markdown",
   "metadata": {},
   "source": [
    "<h3> DOUBLONS </h3>"
   ]
  },
  {
   "cell_type": "code",
   "execution_count": null,
   "metadata": {},
   "outputs": [
    {
     "name": "stdout",
     "output_type": "stream",
     "text": [
      "Doublons (foguete):\n",
      "flem-season-1-common: [2808, 3107, 3464, 3873, 3883]\n",
      "le-reglement-season-1-common: [1928, 3827]\n",
      "lycos-season-1-common: [3051, 3385]\n",
      "doums-season-1-common: [1938, 2627]\n",
      "rowjay-season-1-common: [1998, 3770]\n",
      "sheldon-season-1-common: [2923, 3129]\n",
      "ysos-season-1-common: [2309, 2437]\n",
      "houdi-season-2-holo: [176, 256]\n"
     ]
    }
   ],
   "source": [
    "doublons = find_doublons(card_list_second_account)\n",
    "#print(doublons)\n",
    "\n",
    "print(F\"Doublons ({second_account}):\")\n",
    "for slug, serial_numbers in doublons.items():\n",
    "    print(f\"{slug}: {serial_numbers}\")\n",
    "\n",
    "#print(json.dumps(card_list_main_account, indent=2))"
   ]
  }
 ],
 "metadata": {
  "kernelspec": {
   "display_name": "Python 3",
   "language": "python",
   "name": "python3"
  },
  "language_info": {
   "codemirror_mode": {
    "name": "ipython",
    "version": 3
   },
   "file_extension": ".py",
   "mimetype": "text/x-python",
   "name": "python",
   "nbconvert_exporter": "python",
   "pygments_lexer": "ipython3",
   "version": "3.10.8"
  },
  "orig_nbformat": 4
 },
 "nbformat": 4,
 "nbformat_minor": 2
}
