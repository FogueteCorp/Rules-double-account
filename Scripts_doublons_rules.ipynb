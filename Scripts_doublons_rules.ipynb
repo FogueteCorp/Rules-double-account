{
 "cells": [
  {
   "cell_type": "markdown",
   "metadata": {},
   "source": [
    "<h1> DOUBLONS </h1>"
   ]
  },
  {
   "cell_type": "code",
   "execution_count": 2,
   "metadata": {},
   "outputs": [
    {
     "name": "stdout",
     "output_type": "stream",
     "text": [
      "Doublons:\n",
      "flem-season-1-common: [2808, 3107, 3464, 3873, 3883]\n",
      "le-reglement-season-1-common: [1928, 3827]\n",
      "lycos-season-1-common: [3051, 3385]\n",
      "doums-season-1-common: [1938, 2627]\n",
      "rowjay-season-1-common: [1998, 3770]\n",
      "sheldon-season-1-common: [2923, 3129]\n",
      "ysos-season-1-common: [2309, 2437]\n",
      "houdi-season-2-holo: [176, 256]\n"
     ]
    }
   ],
   "source": [
    "import json\n",
    "import requests\n",
    "\n",
    "RULES_URL = 'https://api.rules.art/graphql'\n",
    "\n",
    "def main():\n",
    "  mode = int(input(\"What do you want to do ?\\n1-Find Doublons main account\\n2-Compare 2 accounts\"))\n",
    "\n",
    "  main_account = input(\"What is your main account profile name ? \").casefold().replace(\" \", \"\")\n",
    "  card_list_main_account = execute_query(main_account)\n",
    "\n",
    "  if mode != 1:\n",
    "    second_account = input(\"What is your second account profile name ? \").casefold().replace(\" \", \"\")\n",
    "    card_list_second_account = execute_query(main_account)\n",
    "  elif mode == 1:\n",
    "     doublons = methods(mode, card_list_main_account)\n",
    "     print(\"Doublons:\")\n",
    "     for slug, serial_numbers in doublons.items():\n",
    "        print(f\"{slug}: {serial_numbers}\")\n",
    "  \n",
    "  #print(json.dumps(card_list_main_account, indent=2))\n",
    "\n",
    "  \n",
    "\n",
    "def execute_query(account_name):\n",
    "  query = f\"\"\"\n",
    "  {{\n",
    "    user(slug: \"{account_name}\") {{\n",
    "      ownedCardModels {{\n",
    "        cardModel {{\n",
    "          slug,\n",
    "          scarcity {{\n",
    "            name\n",
    "          }}\n",
    "          artistName,\n",
    "          season\n",
    "        }},\n",
    "        serialNumbers\n",
    "      }}\n",
    "    }}\n",
    "  }}\n",
    "  \"\"\"\n",
    "  r = requests.post(RULES_URL, json={'query': query})\n",
    "  #print(r.status_code)\n",
    "\n",
    "  try:\n",
    "    r_data = r.json()\n",
    "    user_data = r_data.get('data', {}).get('user', {}).get('ownedCardModels')\n",
    "    return user_data\n",
    "  except ValueError:\n",
    "      raise ValueError(\"Error: Invalid JSON response from the API.\")\n",
    "\n",
    "\n",
    "def methods(mode, card_list):\n",
    "   if mode == 1:\n",
    "    seen_slugs = set()\n",
    "    doublons = {}\n",
    "    # Find serialNumbers[] with more than 1 value\n",
    "    for card in card_list:\n",
    "        slug = card['cardModel']['slug']\n",
    "        serial_numbers = card['serialNumbers']\n",
    "        if len(serial_numbers) > 1:\n",
    "            doublons[slug] = serial_numbers\n",
    "        else:\n",
    "            seen_slugs.add(slug)\n",
    "    return doublons\n",
    "   \n",
    "\n",
    "if __name__ == \"__main__\":\n",
    "    main()"
   ]
  }
 ],
 "metadata": {
  "kernelspec": {
   "display_name": "Python 3",
   "language": "python",
   "name": "python3"
  },
  "language_info": {
   "codemirror_mode": {
    "name": "ipython",
    "version": 3
   },
   "file_extension": ".py",
   "mimetype": "text/x-python",
   "name": "python",
   "nbconvert_exporter": "python",
   "pygments_lexer": "ipython3",
   "version": "3.10.8"
  },
  "orig_nbformat": 4
 },
 "nbformat": 4,
 "nbformat_minor": 2
}
